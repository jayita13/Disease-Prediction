{
 "cells": [
  {
   "cell_type": "markdown",
   "id": "868f3610",
   "metadata": {
    "papermill": {
     "duration": 0.020929,
     "end_time": "2021-12-08T08:36:26.575458",
     "exception": false,
     "start_time": "2021-12-08T08:36:26.554529",
     "status": "completed"
    },
    "tags": []
   },
   "source": [
    "## About the data\n",
    "\n",
    "Dataset of diabetes, taken from the hospital Frankfurt, Germany\n",
    "The objective of the dataset is to diagnostically predict whether or not a patient has diabetes, based on certain diagnostic measurements included in the dataset. Several constraints were placed on the selection of these instances from a larger database.\n",
    "\n",
    "Dataset link - https://www.kaggle.com/johndasilva/diabetes\n"
   ]
  },
  {
   "cell_type": "markdown",
   "id": "8e8b7dd1",
   "metadata": {
    "papermill": {
     "duration": 0.019139,
     "end_time": "2021-12-08T08:36:26.616117",
     "exception": false,
     "start_time": "2021-12-08T08:36:26.596978",
     "status": "completed"
    },
    "tags": []
   },
   "source": [
    "## Content\n",
    "\n",
    "The datasets consists of several medical predictor variables and one target variable, Outcome. Predictor variables includes the number of pregnancies the patient has had, their BMI, insulin level, age, and so on."
   ]
  },
  {
   "cell_type": "markdown",
   "id": "5a6a6d5f",
   "metadata": {
    "papermill": {
     "duration": 0.018946,
     "end_time": "2021-12-08T08:36:26.654231",
     "exception": false,
     "start_time": "2021-12-08T08:36:26.635285",
     "status": "completed"
    },
    "tags": []
   },
   "source": [
    "## Properties\n",
    "\n",
    "Pregnancies - Number of times pregnant\n",
    "\n",
    "Glucose - Plasma glucose concentration a 2 hours in an oral glucose tolerance test\n",
    "\n",
    "BloodPressure - Diastolic blood pressure (mm Hg)\n",
    "\n",
    "SkinThickness - Triceps skin fold thickness (mm)\n",
    "\n",
    "Insulin - 2-Hour serum insulin (mu U/ml)\n",
    "\n",
    "BMI - Body mass index (weight in kg/(height in m)^2)\n",
    "\n",
    "DiabetesPedigreeFunction - Diabetes pedigree function\n",
    "\n",
    "Age - Age (years)\n",
    "\n",
    "Outcome - Class variable (0 or 1) \n"
   ]
  },
  {
   "cell_type": "markdown",
   "id": "513da666",
   "metadata": {
    "papermill": {
     "duration": 0.018823,
     "end_time": "2021-12-08T08:36:26.693884",
     "exception": false,
     "start_time": "2021-12-08T08:36:26.675061",
     "status": "completed"
    },
    "tags": []
   },
   "source": [
    "Dataset consists of 2000 rows"
   ]
  },
  {
   "cell_type": "code",
   "execution_count": 1,
   "id": "15105b8f",
   "metadata": {
    "execution": {
     "iopub.execute_input": "2021-12-08T08:36:26.736178Z",
     "iopub.status.busy": "2021-12-08T08:36:26.735141Z",
     "iopub.status.idle": "2021-12-08T08:36:27.636738Z",
     "shell.execute_reply": "2021-12-08T08:36:27.636073Z",
     "shell.execute_reply.started": "2021-12-08T08:32:45.953563Z"
    },
    "papermill": {
     "duration": 0.923564,
     "end_time": "2021-12-08T08:36:27.636938",
     "exception": false,
     "start_time": "2021-12-08T08:36:26.713374",
     "status": "completed"
    },
    "tags": []
   },
   "outputs": [],
   "source": [
    "# Importing libraries\n",
    "import pandas as pd \n",
    "import numpy as np\n",
    "import matplotlib.pyplot as plt\n",
    "import seaborn as sns\n",
    "%matplotlib inline\n",
    "import warnings\n",
    "warnings.filterwarnings('ignore')"
   ]
  },
  {
   "cell_type": "code",
   "execution_count": 2,
   "id": "9607b8aa",
   "metadata": {
    "execution": {
     "iopub.execute_input": "2021-12-08T08:36:27.680179Z",
     "iopub.status.busy": "2021-12-08T08:36:27.679573Z",
     "iopub.status.idle": "2021-12-08T08:36:27.701295Z",
     "shell.execute_reply": "2021-12-08T08:36:27.700861Z",
     "shell.execute_reply.started": "2021-12-08T08:32:47.067654Z"
    },
    "papermill": {
     "duration": 0.044872,
     "end_time": "2021-12-08T08:36:27.701422",
     "exception": false,
     "start_time": "2021-12-08T08:36:27.656550",
     "status": "completed"
    },
    "tags": []
   },
   "outputs": [],
   "source": [
    "# Reading data\n",
    "df = pd.read_csv(\"../input/diabetes/diabetes.csv\")"
   ]
  },
  {
   "cell_type": "code",
   "execution_count": 3,
   "id": "535e489c",
   "metadata": {
    "execution": {
     "iopub.execute_input": "2021-12-08T08:36:27.743729Z",
     "iopub.status.busy": "2021-12-08T08:36:27.743188Z",
     "iopub.status.idle": "2021-12-08T08:36:27.748906Z",
     "shell.execute_reply": "2021-12-08T08:36:27.749324Z",
     "shell.execute_reply.started": "2021-12-08T08:32:47.095818Z"
    },
    "papermill": {
     "duration": 0.028772,
     "end_time": "2021-12-08T08:36:27.749463",
     "exception": false,
     "start_time": "2021-12-08T08:36:27.720691",
     "status": "completed"
    },
    "tags": []
   },
   "outputs": [
    {
     "data": {
      "text/plain": [
       "(2000, 9)"
      ]
     },
     "execution_count": 3,
     "metadata": {},
     "output_type": "execute_result"
    }
   ],
   "source": [
    "# determining dataset size\n",
    "df.shape"
   ]
  },
  {
   "cell_type": "code",
   "execution_count": 4,
   "id": "6f9bea70",
   "metadata": {
    "execution": {
     "iopub.execute_input": "2021-12-08T08:36:27.791711Z",
     "iopub.status.busy": "2021-12-08T08:36:27.791152Z",
     "iopub.status.idle": "2021-12-08T08:36:27.807052Z",
     "shell.execute_reply": "2021-12-08T08:36:27.807474Z",
     "shell.execute_reply.started": "2021-12-08T08:32:47.107749Z"
    },
    "papermill": {
     "duration": 0.038418,
     "end_time": "2021-12-08T08:36:27.807647",
     "exception": false,
     "start_time": "2021-12-08T08:36:27.769229",
     "status": "completed"
    },
    "tags": []
   },
   "outputs": [
    {
     "data": {
      "text/html": [
       "<div>\n",
       "<style scoped>\n",
       "    .dataframe tbody tr th:only-of-type {\n",
       "        vertical-align: middle;\n",
       "    }\n",
       "\n",
       "    .dataframe tbody tr th {\n",
       "        vertical-align: top;\n",
       "    }\n",
       "\n",
       "    .dataframe thead th {\n",
       "        text-align: right;\n",
       "    }\n",
       "</style>\n",
       "<table border=\"1\" class=\"dataframe\">\n",
       "  <thead>\n",
       "    <tr style=\"text-align: right;\">\n",
       "      <th></th>\n",
       "      <th>Pregnancies</th>\n",
       "      <th>Glucose</th>\n",
       "      <th>BloodPressure</th>\n",
       "      <th>SkinThickness</th>\n",
       "      <th>Insulin</th>\n",
       "      <th>BMI</th>\n",
       "      <th>DiabetesPedigreeFunction</th>\n",
       "      <th>Age</th>\n",
       "      <th>Outcome</th>\n",
       "    </tr>\n",
       "  </thead>\n",
       "  <tbody>\n",
       "    <tr>\n",
       "      <th>0</th>\n",
       "      <td>2</td>\n",
       "      <td>138</td>\n",
       "      <td>62</td>\n",
       "      <td>35</td>\n",
       "      <td>0</td>\n",
       "      <td>33.6</td>\n",
       "      <td>0.127</td>\n",
       "      <td>47</td>\n",
       "      <td>1</td>\n",
       "    </tr>\n",
       "    <tr>\n",
       "      <th>1</th>\n",
       "      <td>0</td>\n",
       "      <td>84</td>\n",
       "      <td>82</td>\n",
       "      <td>31</td>\n",
       "      <td>125</td>\n",
       "      <td>38.2</td>\n",
       "      <td>0.233</td>\n",
       "      <td>23</td>\n",
       "      <td>0</td>\n",
       "    </tr>\n",
       "    <tr>\n",
       "      <th>2</th>\n",
       "      <td>0</td>\n",
       "      <td>145</td>\n",
       "      <td>0</td>\n",
       "      <td>0</td>\n",
       "      <td>0</td>\n",
       "      <td>44.2</td>\n",
       "      <td>0.630</td>\n",
       "      <td>31</td>\n",
       "      <td>1</td>\n",
       "    </tr>\n",
       "    <tr>\n",
       "      <th>3</th>\n",
       "      <td>0</td>\n",
       "      <td>135</td>\n",
       "      <td>68</td>\n",
       "      <td>42</td>\n",
       "      <td>250</td>\n",
       "      <td>42.3</td>\n",
       "      <td>0.365</td>\n",
       "      <td>24</td>\n",
       "      <td>1</td>\n",
       "    </tr>\n",
       "    <tr>\n",
       "      <th>4</th>\n",
       "      <td>1</td>\n",
       "      <td>139</td>\n",
       "      <td>62</td>\n",
       "      <td>41</td>\n",
       "      <td>480</td>\n",
       "      <td>40.7</td>\n",
       "      <td>0.536</td>\n",
       "      <td>21</td>\n",
       "      <td>0</td>\n",
       "    </tr>\n",
       "  </tbody>\n",
       "</table>\n",
       "</div>"
      ],
      "text/plain": [
       "   Pregnancies  Glucose  BloodPressure  SkinThickness  Insulin   BMI  \\\n",
       "0            2      138             62             35        0  33.6   \n",
       "1            0       84             82             31      125  38.2   \n",
       "2            0      145              0              0        0  44.2   \n",
       "3            0      135             68             42      250  42.3   \n",
       "4            1      139             62             41      480  40.7   \n",
       "\n",
       "   DiabetesPedigreeFunction  Age  Outcome  \n",
       "0                     0.127   47        1  \n",
       "1                     0.233   23        0  \n",
       "2                     0.630   31        1  \n",
       "3                     0.365   24        1  \n",
       "4                     0.536   21        0  "
      ]
     },
     "execution_count": 4,
     "metadata": {},
     "output_type": "execute_result"
    }
   ],
   "source": [
    "# printing 1st 5rows\n",
    "df.head()"
   ]
  },
  {
   "cell_type": "code",
   "execution_count": 5,
   "id": "fb026b2a",
   "metadata": {
    "execution": {
     "iopub.execute_input": "2021-12-08T08:36:27.851026Z",
     "iopub.status.busy": "2021-12-08T08:36:27.850163Z",
     "iopub.status.idle": "2021-12-08T08:36:27.875349Z",
     "shell.execute_reply": "2021-12-08T08:36:27.875952Z",
     "shell.execute_reply.started": "2021-12-08T08:32:47.136419Z"
    },
    "papermill": {
     "duration": 0.048542,
     "end_time": "2021-12-08T08:36:27.876155",
     "exception": false,
     "start_time": "2021-12-08T08:36:27.827613",
     "status": "completed"
    },
    "tags": []
   },
   "outputs": [
    {
     "name": "stdout",
     "output_type": "stream",
     "text": [
      "<class 'pandas.core.frame.DataFrame'>\n",
      "RangeIndex: 2000 entries, 0 to 1999\n",
      "Data columns (total 9 columns):\n",
      " #   Column                    Non-Null Count  Dtype  \n",
      "---  ------                    --------------  -----  \n",
      " 0   Pregnancies               2000 non-null   int64  \n",
      " 1   Glucose                   2000 non-null   int64  \n",
      " 2   BloodPressure             2000 non-null   int64  \n",
      " 3   SkinThickness             2000 non-null   int64  \n",
      " 4   Insulin                   2000 non-null   int64  \n",
      " 5   BMI                       2000 non-null   float64\n",
      " 6   DiabetesPedigreeFunction  2000 non-null   float64\n",
      " 7   Age                       2000 non-null   int64  \n",
      " 8   Outcome                   2000 non-null   int64  \n",
      "dtypes: float64(2), int64(7)\n",
      "memory usage: 140.8 KB\n"
     ]
    }
   ],
   "source": [
    "# determining types of data\n",
    "df.info()"
   ]
  },
  {
   "cell_type": "markdown",
   "id": "3077e0ea",
   "metadata": {
    "papermill": {
     "duration": 0.020997,
     "end_time": "2021-12-08T08:36:27.921292",
     "exception": false,
     "start_time": "2021-12-08T08:36:27.900295",
     "status": "completed"
    },
    "tags": []
   },
   "source": [
    "There are no missing values & all the columns consist of numeric data"
   ]
  },
  {
   "cell_type": "code",
   "execution_count": 6,
   "id": "e36af7bb",
   "metadata": {
    "execution": {
     "iopub.execute_input": "2021-12-08T08:36:27.968175Z",
     "iopub.status.busy": "2021-12-08T08:36:27.967607Z",
     "iopub.status.idle": "2021-12-08T08:36:27.999360Z",
     "shell.execute_reply": "2021-12-08T08:36:27.999852Z",
     "shell.execute_reply.started": "2021-12-08T08:32:47.162151Z"
    },
    "papermill": {
     "duration": 0.057987,
     "end_time": "2021-12-08T08:36:28.000017",
     "exception": false,
     "start_time": "2021-12-08T08:36:27.942030",
     "status": "completed"
    },
    "tags": []
   },
   "outputs": [
    {
     "data": {
      "text/html": [
       "<div>\n",
       "<style scoped>\n",
       "    .dataframe tbody tr th:only-of-type {\n",
       "        vertical-align: middle;\n",
       "    }\n",
       "\n",
       "    .dataframe tbody tr th {\n",
       "        vertical-align: top;\n",
       "    }\n",
       "\n",
       "    .dataframe thead th {\n",
       "        text-align: right;\n",
       "    }\n",
       "</style>\n",
       "<table border=\"1\" class=\"dataframe\">\n",
       "  <thead>\n",
       "    <tr style=\"text-align: right;\">\n",
       "      <th></th>\n",
       "      <th>Pregnancies</th>\n",
       "      <th>Glucose</th>\n",
       "      <th>BloodPressure</th>\n",
       "      <th>SkinThickness</th>\n",
       "      <th>Insulin</th>\n",
       "      <th>BMI</th>\n",
       "      <th>DiabetesPedigreeFunction</th>\n",
       "      <th>Age</th>\n",
       "      <th>Outcome</th>\n",
       "    </tr>\n",
       "  </thead>\n",
       "  <tbody>\n",
       "    <tr>\n",
       "      <th>count</th>\n",
       "      <td>2000.000000</td>\n",
       "      <td>2000.000000</td>\n",
       "      <td>2000.000000</td>\n",
       "      <td>2000.000000</td>\n",
       "      <td>2000.000000</td>\n",
       "      <td>2000.000000</td>\n",
       "      <td>2000.000000</td>\n",
       "      <td>2000.000000</td>\n",
       "      <td>2000.000000</td>\n",
       "    </tr>\n",
       "    <tr>\n",
       "      <th>mean</th>\n",
       "      <td>3.703500</td>\n",
       "      <td>121.182500</td>\n",
       "      <td>69.145500</td>\n",
       "      <td>20.935000</td>\n",
       "      <td>80.254000</td>\n",
       "      <td>32.193000</td>\n",
       "      <td>0.470930</td>\n",
       "      <td>33.090500</td>\n",
       "      <td>0.342000</td>\n",
       "    </tr>\n",
       "    <tr>\n",
       "      <th>std</th>\n",
       "      <td>3.306063</td>\n",
       "      <td>32.068636</td>\n",
       "      <td>19.188315</td>\n",
       "      <td>16.103243</td>\n",
       "      <td>111.180534</td>\n",
       "      <td>8.149901</td>\n",
       "      <td>0.323553</td>\n",
       "      <td>11.786423</td>\n",
       "      <td>0.474498</td>\n",
       "    </tr>\n",
       "    <tr>\n",
       "      <th>min</th>\n",
       "      <td>0.000000</td>\n",
       "      <td>0.000000</td>\n",
       "      <td>0.000000</td>\n",
       "      <td>0.000000</td>\n",
       "      <td>0.000000</td>\n",
       "      <td>0.000000</td>\n",
       "      <td>0.078000</td>\n",
       "      <td>21.000000</td>\n",
       "      <td>0.000000</td>\n",
       "    </tr>\n",
       "    <tr>\n",
       "      <th>25%</th>\n",
       "      <td>1.000000</td>\n",
       "      <td>99.000000</td>\n",
       "      <td>63.500000</td>\n",
       "      <td>0.000000</td>\n",
       "      <td>0.000000</td>\n",
       "      <td>27.375000</td>\n",
       "      <td>0.244000</td>\n",
       "      <td>24.000000</td>\n",
       "      <td>0.000000</td>\n",
       "    </tr>\n",
       "    <tr>\n",
       "      <th>50%</th>\n",
       "      <td>3.000000</td>\n",
       "      <td>117.000000</td>\n",
       "      <td>72.000000</td>\n",
       "      <td>23.000000</td>\n",
       "      <td>40.000000</td>\n",
       "      <td>32.300000</td>\n",
       "      <td>0.376000</td>\n",
       "      <td>29.000000</td>\n",
       "      <td>0.000000</td>\n",
       "    </tr>\n",
       "    <tr>\n",
       "      <th>75%</th>\n",
       "      <td>6.000000</td>\n",
       "      <td>141.000000</td>\n",
       "      <td>80.000000</td>\n",
       "      <td>32.000000</td>\n",
       "      <td>130.000000</td>\n",
       "      <td>36.800000</td>\n",
       "      <td>0.624000</td>\n",
       "      <td>40.000000</td>\n",
       "      <td>1.000000</td>\n",
       "    </tr>\n",
       "    <tr>\n",
       "      <th>max</th>\n",
       "      <td>17.000000</td>\n",
       "      <td>199.000000</td>\n",
       "      <td>122.000000</td>\n",
       "      <td>110.000000</td>\n",
       "      <td>744.000000</td>\n",
       "      <td>80.600000</td>\n",
       "      <td>2.420000</td>\n",
       "      <td>81.000000</td>\n",
       "      <td>1.000000</td>\n",
       "    </tr>\n",
       "  </tbody>\n",
       "</table>\n",
       "</div>"
      ],
      "text/plain": [
       "       Pregnancies      Glucose  BloodPressure  SkinThickness      Insulin  \\\n",
       "count  2000.000000  2000.000000    2000.000000    2000.000000  2000.000000   \n",
       "mean      3.703500   121.182500      69.145500      20.935000    80.254000   \n",
       "std       3.306063    32.068636      19.188315      16.103243   111.180534   \n",
       "min       0.000000     0.000000       0.000000       0.000000     0.000000   \n",
       "25%       1.000000    99.000000      63.500000       0.000000     0.000000   \n",
       "50%       3.000000   117.000000      72.000000      23.000000    40.000000   \n",
       "75%       6.000000   141.000000      80.000000      32.000000   130.000000   \n",
       "max      17.000000   199.000000     122.000000     110.000000   744.000000   \n",
       "\n",
       "               BMI  DiabetesPedigreeFunction          Age      Outcome  \n",
       "count  2000.000000               2000.000000  2000.000000  2000.000000  \n",
       "mean     32.193000                  0.470930    33.090500     0.342000  \n",
       "std       8.149901                  0.323553    11.786423     0.474498  \n",
       "min       0.000000                  0.078000    21.000000     0.000000  \n",
       "25%      27.375000                  0.244000    24.000000     0.000000  \n",
       "50%      32.300000                  0.376000    29.000000     0.000000  \n",
       "75%      36.800000                  0.624000    40.000000     1.000000  \n",
       "max      80.600000                  2.420000    81.000000     1.000000  "
      ]
     },
     "execution_count": 6,
     "metadata": {},
     "output_type": "execute_result"
    }
   ],
   "source": [
    "# basic statistics\n",
    "df.describe()"
   ]
  },
  {
   "cell_type": "code",
   "execution_count": 7,
   "id": "f71b5cf2",
   "metadata": {
    "execution": {
     "iopub.execute_input": "2021-12-08T08:36:28.045428Z",
     "iopub.status.busy": "2021-12-08T08:36:28.044542Z",
     "iopub.status.idle": "2021-12-08T08:36:28.049530Z",
     "shell.execute_reply": "2021-12-08T08:36:28.049993Z",
     "shell.execute_reply.started": "2021-12-08T08:32:47.209974Z"
    },
    "papermill": {
     "duration": 0.029329,
     "end_time": "2021-12-08T08:36:28.050146",
     "exception": false,
     "start_time": "2021-12-08T08:36:28.020817",
     "status": "completed"
    },
    "tags": []
   },
   "outputs": [],
   "source": [
    "# checking dataset is balanced or not\n",
    "diabetes_true_count = len(df.loc[df['Outcome'] == 1])\n",
    "diabetes_false_count = len(df.loc[df['Outcome'] == 0])"
   ]
  },
  {
   "cell_type": "code",
   "execution_count": 8,
   "id": "97f57126",
   "metadata": {
    "execution": {
     "iopub.execute_input": "2021-12-08T08:36:28.094910Z",
     "iopub.status.busy": "2021-12-08T08:36:28.094367Z",
     "iopub.status.idle": "2021-12-08T08:36:28.098423Z",
     "shell.execute_reply": "2021-12-08T08:36:28.098890Z",
     "shell.execute_reply.started": "2021-12-08T08:32:47.220094Z"
    },
    "papermill": {
     "duration": 0.028251,
     "end_time": "2021-12-08T08:36:28.099038",
     "exception": false,
     "start_time": "2021-12-08T08:36:28.070787",
     "status": "completed"
    },
    "tags": []
   },
   "outputs": [
    {
     "data": {
      "text/plain": [
       "(684, 1316)"
      ]
     },
     "execution_count": 8,
     "metadata": {},
     "output_type": "execute_result"
    }
   ],
   "source": [
    "(diabetes_true_count,diabetes_false_count)"
   ]
  },
  {
   "cell_type": "markdown",
   "id": "298d72cc",
   "metadata": {
    "papermill": {
     "duration": 0.020721,
     "end_time": "2021-12-08T08:36:28.140901",
     "exception": false,
     "start_time": "2021-12-08T08:36:28.120180",
     "status": "completed"
    },
    "tags": []
   },
   "source": [
    "Its almost an imbalanced dataset "
   ]
  },
  {
   "cell_type": "code",
   "execution_count": 9,
   "id": "197584aa",
   "metadata": {
    "execution": {
     "iopub.execute_input": "2021-12-08T08:36:28.187019Z",
     "iopub.status.busy": "2021-12-08T08:36:28.186399Z",
     "iopub.status.idle": "2021-12-08T08:36:28.383651Z",
     "shell.execute_reply": "2021-12-08T08:36:28.382963Z",
     "shell.execute_reply.started": "2021-12-08T08:32:47.231740Z"
    },
    "papermill": {
     "duration": 0.222199,
     "end_time": "2021-12-08T08:36:28.383800",
     "exception": false,
     "start_time": "2021-12-08T08:36:28.161601",
     "status": "completed"
    },
    "tags": []
   },
   "outputs": [
    {
     "data": {
      "text/plain": [
       "<AxesSubplot:xlabel='Outcome', ylabel='count'>"
      ]
     },
     "execution_count": 9,
     "metadata": {},
     "output_type": "execute_result"
    },
    {
     "data": {
      "image/png": "[encoded data removed]",
      "text/plain": [
       "<Figure size 432x288 with 1 Axes>"
      ]
     },
     "metadata": {
      "needs_background": "light"
     },
     "output_type": "display_data"
    }
   ],
   "source": [
    "# plotting graph for output classes counts\n",
    "sns.countplot(x = 'Outcome',data = df)"
   ]
  },
  {
   "cell_type": "code",
   "execution_count": 10,
   "id": "f537004c",
   "metadata": {
    "execution": {
     "iopub.execute_input": "2021-12-08T08:36:28.431168Z",
     "iopub.status.busy": "2021-12-08T08:36:28.430447Z",
     "iopub.status.idle": "2021-12-08T08:36:30.058105Z",
     "shell.execute_reply": "2021-12-08T08:36:30.058531Z",
     "shell.execute_reply.started": "2021-12-08T08:32:47.414093Z"
    },
    "papermill": {
     "duration": 1.653199,
     "end_time": "2021-12-08T08:36:30.058712",
     "exception": false,
     "start_time": "2021-12-08T08:36:28.405513",
     "status": "completed"
    },
    "tags": []
   },
   "outputs": [
    {
     "data": {
      "text/plain": [
       "array([[<AxesSubplot:title={'center':'Pregnancies'}>,\n",
       "        <AxesSubplot:title={'center':'Glucose'}>,\n",
       "        <AxesSubplot:title={'center':'BloodPressure'}>],\n",
       "       [<AxesSubplot:title={'center':'SkinThickness'}>,\n",
       "        <AxesSubplot:title={'center':'Insulin'}>,\n",
       "        <AxesSubplot:title={'center':'BMI'}>],\n",
       "       [<AxesSubplot:title={'center':'DiabetesPedigreeFunction'}>,\n",
       "        <AxesSubplot:title={'center':'Age'}>,\n",
       "        <AxesSubplot:title={'center':'Outcome'}>]], dtype=object)"
      ]
     },
     "execution_count": 10,
     "metadata": {},
     "output_type": "execute_result"
    },
    {
     "data": {
      "image/png": "[encoded data removed]",
      "text/plain": [
       "<Figure size 2160x2160 with 9 Axes>"
      ]
     },
     "metadata": {
      "needs_background": "light"
     },
     "output_type": "display_data"
    }
   ],
   "source": [
    "# plotting variation graphs for each property\n",
    "df.hist(figsize = (30,30))"
   ]
  },
  {
   "cell_type": "code",
   "execution_count": 11,
   "id": "172cb7e9",
   "metadata": {
    "execution": {
     "iopub.execute_input": "2021-12-08T08:36:30.109852Z",
     "iopub.status.busy": "2021-12-08T08:36:30.109283Z",
     "iopub.status.idle": "2021-12-08T08:36:30.116631Z",
     "shell.execute_reply": "2021-12-08T08:36:30.116147Z",
     "shell.execute_reply.started": "2021-12-08T08:32:49.241773Z"
    },
    "papermill": {
     "duration": 0.034131,
     "end_time": "2021-12-08T08:36:30.116763",
     "exception": false,
     "start_time": "2021-12-08T08:36:30.082632",
     "status": "completed"
    },
    "tags": []
   },
   "outputs": [
    {
     "data": {
      "text/plain": [
       "Pregnancies                 0\n",
       "Glucose                     0\n",
       "BloodPressure               0\n",
       "SkinThickness               0\n",
       "Insulin                     0\n",
       "BMI                         0\n",
       "DiabetesPedigreeFunction    0\n",
       "Age                         0\n",
       "Outcome                     0\n",
       "dtype: int64"
      ]
     },
     "execution_count": 11,
     "metadata": {},
     "output_type": "execute_result"
    }
   ],
   "source": [
    "df.isnull().sum()"
   ]
  },
  {
   "cell_type": "markdown",
   "id": "1e2eb3ea",
   "metadata": {
    "papermill": {
     "duration": 0.023883,
     "end_time": "2021-12-08T08:36:30.164990",
     "exception": false,
     "start_time": "2021-12-08T08:36:30.141107",
     "status": "completed"
    },
    "tags": []
   },
   "source": [
    "No null value present in data"
   ]
  },
  {
   "cell_type": "markdown",
   "id": "d3b72377",
   "metadata": {
    "papermill": {
     "duration": 0.023869,
     "end_time": "2021-12-08T08:36:30.212955",
     "exception": false,
     "start_time": "2021-12-08T08:36:30.189086",
     "status": "completed"
    },
    "tags": []
   },
   "source": [
    "### Correlation & heatmap generation"
   ]
  },
  {
   "cell_type": "code",
   "execution_count": 12,
   "id": "26070541",
   "metadata": {
    "execution": {
     "iopub.execute_input": "2021-12-08T08:36:30.264612Z",
     "iopub.status.busy": "2021-12-08T08:36:30.263982Z",
     "iopub.status.idle": "2021-12-08T08:36:31.102360Z",
     "shell.execute_reply": "2021-12-08T08:36:31.101914Z",
     "shell.execute_reply.started": "2021-12-08T08:32:49.251852Z"
    },
    "papermill": {
     "duration": 0.865443,
     "end_time": "2021-12-08T08:36:31.102491",
     "exception": false,
     "start_time": "2021-12-08T08:36:30.237048",
     "status": "completed"
    },
    "tags": []
   },
   "outputs": [
    {
     "data": {
      "image/png": "[encoded data removed]",
      "text/plain": [
       "<Figure size 1440x1440 with 2 Axes>"
      ]
     },
     "metadata": {
      "needs_background": "light"
     },
     "output_type": "display_data"
    }
   ],
   "source": [
    "corrmat = df.corr()\n",
    "top_corr_features = corrmat.index\n",
    "plt.figure(figsize=(20,20))\n",
    "#plot heat map\n",
    "g=sns.heatmap(df[top_corr_features].corr(),annot=True,cmap=\"RdYlGn\")"
   ]
  },
  {
   "cell_type": "code",
   "execution_count": 13,
   "id": "d8f39d25",
   "metadata": {
    "execution": {
     "iopub.execute_input": "2021-12-08T08:36:31.160704Z",
     "iopub.status.busy": "2021-12-08T08:36:31.160092Z",
     "iopub.status.idle": "2021-12-08T08:36:31.162306Z",
     "shell.execute_reply": "2021-12-08T08:36:31.162742Z",
     "shell.execute_reply.started": "2021-12-08T08:32:50.247573Z"
    },
    "papermill": {
     "duration": 0.033802,
     "end_time": "2021-12-08T08:36:31.162902",
     "exception": false,
     "start_time": "2021-12-08T08:36:31.129100",
     "status": "completed"
    },
    "tags": []
   },
   "outputs": [
    {
     "data": {
      "text/plain": [
       "Index(['Pregnancies', 'Glucose', 'BloodPressure', 'SkinThickness', 'Insulin',\n",
       "       'BMI', 'DiabetesPedigreeFunction', 'Age', 'Outcome'],\n",
       "      dtype='object')"
      ]
     },
     "execution_count": 13,
     "metadata": {},
     "output_type": "execute_result"
    }
   ],
   "source": [
    "df.columns"
   ]
  },
  {
   "cell_type": "markdown",
   "id": "bf67a17e",
   "metadata": {
    "papermill": {
     "duration": 0.0262,
     "end_time": "2021-12-08T08:36:31.215469",
     "exception": false,
     "start_time": "2021-12-08T08:36:31.189269",
     "status": "completed"
    },
    "tags": []
   },
   "source": [
    "Checking if data has 0 values present "
   ]
  },
  {
   "cell_type": "code",
   "execution_count": 14,
   "id": "b2ef4f8f",
   "metadata": {
    "execution": {
     "iopub.execute_input": "2021-12-08T08:36:31.271410Z",
     "iopub.status.busy": "2021-12-08T08:36:31.270841Z",
     "iopub.status.idle": "2021-12-08T08:36:31.283394Z",
     "shell.execute_reply": "2021-12-08T08:36:31.283950Z",
     "shell.execute_reply.started": "2021-12-08T08:32:50.255277Z"
    },
    "papermill": {
     "duration": 0.042162,
     "end_time": "2021-12-08T08:36:31.284111",
     "exception": false,
     "start_time": "2021-12-08T08:36:31.241949",
     "status": "completed"
    },
    "tags": []
   },
   "outputs": [
    {
     "name": "stdout",
     "output_type": "stream",
     "text": [
      "Pregnancies: 301\n",
      "Glucose: 13\n",
      "bp: 90\n",
      "SkinThickness: 573\n",
      "Insulin: 956\n",
      "BMI: 28\n",
      "DiabetesPedigreeFunction: 0\n",
      "Age: 0\n"
     ]
    }
   ],
   "source": [
    "print(\"Pregnancies: {0}\".format(len(df.loc[df['Pregnancies'] == 0])))\n",
    "print(\"Glucose: {0}\".format(len(df.loc[df['Glucose'] == 0])))\n",
    "print(\"bp: {0}\".format(len(df.loc[df['BloodPressure'] == 0])))\n",
    "print(\"SkinThickness: {0}\".format(len(df.loc[df['SkinThickness'] == 0])))\n",
    "print(\"Insulin: {0}\".format(len(df.loc[df['Insulin'] == 0])))\n",
    "print(\"BMI: {0}\".format(len(df.loc[df['BMI'] == 0])))\n",
    "print(\"DiabetesPedigreeFunction: {0}\".format(len(df.loc[df['DiabetesPedigreeFunction'] == 0])))\n",
    "print(\"Age: {0}\".format(len(df.loc[df['Age'] == 0])))"
   ]
  },
  {
   "cell_type": "markdown",
   "id": "9c097155",
   "metadata": {
    "papermill": {
     "duration": 0.026585,
     "end_time": "2021-12-08T08:36:31.337876",
     "exception": false,
     "start_time": "2021-12-08T08:36:31.311291",
     "status": "completed"
    },
    "tags": []
   },
   "source": [
    "### Preparing the data for model building\n"
   ]
  },
  {
   "cell_type": "code",
   "execution_count": 15,
   "id": "567e4389",
   "metadata": {
    "execution": {
     "iopub.execute_input": "2021-12-08T08:36:31.395658Z",
     "iopub.status.busy": "2021-12-08T08:36:31.395058Z",
     "iopub.status.idle": "2021-12-08T08:36:31.546662Z",
     "shell.execute_reply": "2021-12-08T08:36:31.546027Z",
     "shell.execute_reply.started": "2021-12-08T08:32:50.279992Z"
    },
    "papermill": {
     "duration": 0.180931,
     "end_time": "2021-12-08T08:36:31.546793",
     "exception": false,
     "start_time": "2021-12-08T08:36:31.365862",
     "status": "completed"
    },
    "tags": []
   },
   "outputs": [],
   "source": [
    "from sklearn.model_selection import train_test_split\n",
    "feature_columns = ['Pregnancies', 'Glucose', 'BloodPressure','SkinThickness', 'Insulin', 'BMI', 'DiabetesPedigreeFunction', 'Age']\n",
    "predicted_class = ['Outcome']"
   ]
  },
  {
   "cell_type": "markdown",
   "id": "2a4c6088",
   "metadata": {
    "papermill": {
     "duration": 0.026787,
     "end_time": "2021-12-08T08:36:31.600853",
     "exception": false,
     "start_time": "2021-12-08T08:36:31.574066",
     "status": "completed"
    },
    "tags": []
   },
   "source": [
    "Splitting dataset into train & test set\n"
   ]
  },
  {
   "cell_type": "code",
   "execution_count": 16,
   "id": "ce64926b",
   "metadata": {
    "execution": {
     "iopub.execute_input": "2021-12-08T08:36:31.657982Z",
     "iopub.status.busy": "2021-12-08T08:36:31.657069Z",
     "iopub.status.idle": "2021-12-08T08:36:31.665300Z",
     "shell.execute_reply": "2021-12-08T08:36:31.665758Z",
     "shell.execute_reply.started": "2021-12-08T08:32:50.481020Z"
    },
    "papermill": {
     "duration": 0.038174,
     "end_time": "2021-12-08T08:36:31.665920",
     "exception": false,
     "start_time": "2021-12-08T08:36:31.627746",
     "status": "completed"
    },
    "tags": []
   },
   "outputs": [],
   "source": [
    "X = df[feature_columns]\n",
    "y = df[predicted_class]\n",
    "\n",
    "\n",
    "X_train, X_test, y_train, y_test = train_test_split(X, y, test_size = 0.30, random_state=10)"
   ]
  },
  {
   "cell_type": "code",
   "execution_count": 17,
   "id": "f40db819",
   "metadata": {
    "execution": {
     "iopub.execute_input": "2021-12-08T08:36:31.723298Z",
     "iopub.status.busy": "2021-12-08T08:36:31.722744Z",
     "iopub.status.idle": "2021-12-08T08:36:31.726948Z",
     "shell.execute_reply": "2021-12-08T08:36:31.727368Z",
     "shell.execute_reply.started": "2021-12-08T08:32:50.492292Z"
    },
    "papermill": {
     "duration": 0.03432,
     "end_time": "2021-12-08T08:36:31.727523",
     "exception": false,
     "start_time": "2021-12-08T08:36:31.693203",
     "status": "completed"
    },
    "tags": []
   },
   "outputs": [
    {
     "data": {
      "text/plain": [
       "((1400, 8), (600, 8), (1400, 1), (600, 1))"
      ]
     },
     "execution_count": 17,
     "metadata": {},
     "output_type": "execute_result"
    }
   ],
   "source": [
    "X_train.shape, X_test.shape, y_train.shape, y_test.shape"
   ]
  },
  {
   "cell_type": "markdown",
   "id": "09dbaca5",
   "metadata": {
    "papermill": {
     "duration": 0.026754,
     "end_time": "2021-12-08T08:36:31.781126",
     "exception": false,
     "start_time": "2021-12-08T08:36:31.754372",
     "status": "completed"
    },
    "tags": []
   },
   "source": [
    "Filling in the 0 values present with the mean of that particular property\n"
   ]
  },
  {
   "cell_type": "code",
   "execution_count": 18,
   "id": "83eef8fb",
   "metadata": {
    "execution": {
     "iopub.execute_input": "2021-12-08T08:36:31.840427Z",
     "iopub.status.busy": "2021-12-08T08:36:31.839575Z",
     "iopub.status.idle": "2021-12-08T08:36:31.973184Z",
     "shell.execute_reply": "2021-12-08T08:36:31.973625Z",
     "shell.execute_reply.started": "2021-12-08T08:32:50.507532Z"
    },
    "papermill": {
     "duration": 0.165765,
     "end_time": "2021-12-08T08:36:31.973816",
     "exception": false,
     "start_time": "2021-12-08T08:36:31.808051",
     "status": "completed"
    },
    "tags": []
   },
   "outputs": [],
   "source": [
    "from sklearn.impute import SimpleImputer\n",
    "\n",
    "fill_values = SimpleImputer(missing_values=0, strategy=\"mean\")\n",
    "\n",
    "X_train = fill_values.fit_transform(X_train)\n",
    "X_test = fill_values.fit_transform(X_test)"
   ]
  },
  {
   "cell_type": "markdown",
   "id": "9ce30023",
   "metadata": {
    "papermill": {
     "duration": 0.02679,
     "end_time": "2021-12-08T08:36:32.028174",
     "exception": false,
     "start_time": "2021-12-08T08:36:32.001384",
     "status": "completed"
    },
    "tags": []
   },
   "source": [
    "##### Fitting the training data into RandomForest Classifier"
   ]
  },
  {
   "cell_type": "code",
   "execution_count": 19,
   "id": "5a1649b2",
   "metadata": {
    "execution": {
     "iopub.execute_input": "2021-12-08T08:36:32.087012Z",
     "iopub.status.busy": "2021-12-08T08:36:32.086307Z",
     "iopub.status.idle": "2021-12-08T08:36:32.377360Z",
     "shell.execute_reply": "2021-12-08T08:36:32.376879Z",
     "shell.execute_reply.started": "2021-12-08T08:32:50.686187Z"
    },
    "papermill": {
     "duration": 0.321808,
     "end_time": "2021-12-08T08:36:32.377497",
     "exception": false,
     "start_time": "2021-12-08T08:36:32.055689",
     "status": "completed"
    },
    "tags": []
   },
   "outputs": [],
   "source": [
    "from sklearn.ensemble import RandomForestClassifier\n",
    "random_forest_model = RandomForestClassifier(random_state=10)\n",
    "\n",
    "model = random_forest_model.fit(X_train, y_train)"
   ]
  },
  {
   "cell_type": "markdown",
   "id": "061744ae",
   "metadata": {
    "papermill": {
     "duration": 0.026786,
     "end_time": "2021-12-08T08:36:32.431533",
     "exception": false,
     "start_time": "2021-12-08T08:36:32.404747",
     "status": "completed"
    },
    "tags": []
   },
   "source": [
    "##### Predicting model over test set & acquiring accuracy achieved\n"
   ]
  },
  {
   "cell_type": "code",
   "execution_count": 20,
   "id": "a54ab22c",
   "metadata": {
    "execution": {
     "iopub.execute_input": "2021-12-08T08:36:32.490422Z",
     "iopub.status.busy": "2021-12-08T08:36:32.489867Z",
     "iopub.status.idle": "2021-12-08T08:36:32.511110Z",
     "shell.execute_reply": "2021-12-08T08:36:32.511834Z",
     "shell.execute_reply.started": "2021-12-08T08:32:51.052980Z"
    },
    "papermill": {
     "duration": 0.053509,
     "end_time": "2021-12-08T08:36:32.512051",
     "exception": false,
     "start_time": "2021-12-08T08:36:32.458542",
     "status": "completed"
    },
    "tags": []
   },
   "outputs": [
    {
     "name": "stdout",
     "output_type": "stream",
     "text": [
      "Accuracy = 0.958\n"
     ]
    }
   ],
   "source": [
    "predict_train_data = model.predict(X_test)\n",
    "\n",
    "from sklearn import metrics\n",
    "\n",
    "print(\"Accuracy = {0:.3f}\".format(metrics.accuracy_score(y_test, predict_train_data)))"
   ]
  },
  {
   "cell_type": "markdown",
   "id": "9d247262",
   "metadata": {
    "papermill": {
     "duration": 0.027316,
     "end_time": "2021-12-08T08:36:32.567424",
     "exception": false,
     "start_time": "2021-12-08T08:36:32.540108",
     "status": "completed"
    },
    "tags": []
   },
   "source": [
    "##### Confusion matrix for prediction TP,TN,FP,FN"
   ]
  },
  {
   "cell_type": "code",
   "execution_count": 21,
   "id": "656cf550",
   "metadata": {
    "execution": {
     "iopub.execute_input": "2021-12-08T08:36:32.625612Z",
     "iopub.status.busy": "2021-12-08T08:36:32.624723Z",
     "iopub.status.idle": "2021-12-08T08:36:32.632334Z",
     "shell.execute_reply": "2021-12-08T08:36:32.632784Z",
     "shell.execute_reply.started": "2021-12-08T08:32:51.081942Z"
    },
    "papermill": {
     "duration": 0.038084,
     "end_time": "2021-12-08T08:36:32.632939",
     "exception": false,
     "start_time": "2021-12-08T08:36:32.594855",
     "status": "completed"
    },
    "tags": []
   },
   "outputs": [
    {
     "data": {
      "text/plain": [
       "array([[389,   9],\n",
       "       [ 16, 186]])"
      ]
     },
     "execution_count": 21,
     "metadata": {},
     "output_type": "execute_result"
    }
   ],
   "source": [
    "from sklearn.metrics import confusion_matrix\n",
    "cm = confusion_matrix(y_test, predict_train_data)\n",
    "cm"
   ]
  },
  {
   "cell_type": "markdown",
   "id": "182851df",
   "metadata": {
    "papermill": {
     "duration": 0.02786,
     "end_time": "2021-12-08T08:36:32.688165",
     "exception": false,
     "start_time": "2021-12-08T08:36:32.660305",
     "status": "completed"
    },
    "tags": []
   },
   "source": [
    "#### Saving the model"
   ]
  },
  {
   "cell_type": "code",
   "execution_count": 22,
   "id": "ca785252",
   "metadata": {
    "execution": {
     "iopub.execute_input": "2021-12-08T08:36:32.746127Z",
     "iopub.status.busy": "2021-12-08T08:36:32.745552Z",
     "iopub.status.idle": "2021-12-08T08:36:32.791755Z",
     "shell.execute_reply": "2021-12-08T08:36:32.792146Z",
     "shell.execute_reply.started": "2021-12-08T08:32:51.094497Z"
    },
    "papermill": {
     "duration": 0.076323,
     "end_time": "2021-12-08T08:36:32.792318",
     "exception": false,
     "start_time": "2021-12-08T08:36:32.715995",
     "status": "completed"
    },
    "tags": []
   },
   "outputs": [
    {
     "data": {
      "text/plain": [
       "['./random_forest.joblib']"
      ]
     },
     "execution_count": 22,
     "metadata": {},
     "output_type": "execute_result"
    }
   ],
   "source": [
    "import joblib\n",
    "joblib.dump(model, \"./random_forest.joblib\")"
   ]
  },
  {
   "cell_type": "code",
   "execution_count": null,
   "id": "01334064",
   "metadata": {
    "papermill": {
     "duration": 0.027327,
     "end_time": "2021-12-08T08:36:32.847579",
     "exception": false,
     "start_time": "2021-12-08T08:36:32.820252",
     "status": "completed"
    },
    "tags": []
   },
   "outputs": [],
   "source": []
  }
 ],
 "metadata": {
  "kernelspec": {
   "display_name": "Python 3",
   "language": "python",
   "name": "python3"
  },
  "language_info": {
   "codemirror_mode": {
    "name": "ipython",
    "version": 3
   },
   "file_extension": ".py",
   "mimetype": "text/x-python",
   "name": "python",
   "nbconvert_exporter": "python",
   "pygments_lexer": "ipython3",
   "version": "3.7.12"
  },
  "papermill": {
   "default_parameters": {},
   "duration": 14.856408,
   "end_time": "2021-12-08T08:36:33.585758",
   "environment_variables": {},
   "exception": null,
   "input_path": "__notebook__.ipynb",
   "output_path": "__notebook__.ipynb",
   "parameters": {},
   "start_time": "2021-12-08T08:36:18.729350",
   "version": "2.3.3"
  }
 },
 "nbformat": 4,
 "nbformat_minor": 5
}
