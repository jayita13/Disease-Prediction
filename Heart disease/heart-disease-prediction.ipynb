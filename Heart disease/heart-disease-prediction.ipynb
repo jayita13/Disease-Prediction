{
 "cells": [
  {
   "cell_type": "markdown",
   "id": "98a24f37",
   "metadata": {
    "papermill": {
     "duration": 0.026487,
     "end_time": "2022-01-02T18:07:55.087475",
     "exception": false,
     "start_time": "2022-01-02T18:07:55.060988",
     "status": "completed"
    },
    "tags": []
   },
   "source": [
    "Dataset link -> https://www.kaggle.com/johnsmith88/heart-disease-dataset"
   ]
  },
  {
   "cell_type": "markdown",
   "id": "4ec469a6",
   "metadata": {
    "papermill": {
     "duration": 0.024656,
     "end_time": "2022-01-02T18:07:55.137135",
     "exception": false,
     "start_time": "2022-01-02T18:07:55.112479",
     "status": "completed"
    },
    "tags": []
   },
   "source": [
    "**This data set dates from 1988 and consists of four databases: Cleveland, Hungary, Switzerland, and Long Beach V. It contains 76 attributes, including the predicted attribute, but all published experiments refer to using a subset of 14 of them. The \"target\" field refers to the presence of heart disease in the patient. It is integer valued 0 = no disease and 1 = disease.**"
   ]
  },
  {
   "cell_type": "markdown",
   "id": "1dbc5164",
   "metadata": {
    "papermill": {
     "duration": 0.024799,
     "end_time": "2022-01-02T18:07:55.187479",
     "exception": false,
     "start_time": "2022-01-02T18:07:55.162680",
     "status": "completed"
    },
    "tags": []
   },
   "source": [
    "# Content\n",
    "# Attribute Information:\n",
    "\n",
    "age\n",
    "\n",
    "sex\n",
    "\n",
    "chest pain type (4 values)\n",
    "\n",
    "resting blood pressure\n",
    "\n",
    "serum cholestoral in mg/dl\n",
    "\n",
    "fasting blood sugar > 120 mg/dl\n",
    "\n",
    "resting electrocardiographic results (values 0,1,2)\n",
    "\n",
    "maximum heart rate achieved\n",
    "\n",
    "exercise induced angina\n",
    "\n",
    "oldpeak = ST depression induced by exercise relative to rest\n",
    "\n",
    "the slope of the peak exercise ST segment\n",
    "\n",
    "number of major vessels (0-3) colored by flourosopy\n",
    "\n",
    "thal: 0 = normal; 1 = fixed defect; 2 = reversable defect\n",
    "\n",
    "The names and social security numbers of the patients were recently removed from the database, replaced with dummy values."
   ]
  },
  {
   "cell_type": "code",
   "execution_count": 1,
   "id": "4117e6f4",
   "metadata": {
    "execution": {
     "iopub.execute_input": "2022-01-02T18:07:55.248435Z",
     "iopub.status.busy": "2022-01-02T18:07:55.242561Z",
     "iopub.status.idle": "2022-01-02T18:07:56.415577Z",
     "shell.execute_reply": "2022-01-02T18:07:56.414648Z",
     "shell.execute_reply.started": "2022-01-02T18:07:12.287706Z"
    },
    "papermill": {
     "duration": 1.20317,
     "end_time": "2022-01-02T18:07:56.415789",
     "exception": false,
     "start_time": "2022-01-02T18:07:55.212619",
     "status": "completed"
    },
    "tags": []
   },
   "outputs": [],
   "source": [
    "# Importing libraries\n",
    "import pandas as pd \n",
    "import numpy as np\n",
    "import matplotlib.pyplot as plt\n",
    "import seaborn as sns\n",
    "%matplotlib inline\n",
    "import warnings\n",
    "warnings.filterwarnings('ignore')"
   ]
  },
  {
   "cell_type": "code",
   "execution_count": 2,
   "id": "63ad4061",
   "metadata": {
    "execution": {
     "iopub.execute_input": "2022-01-02T18:07:56.472989Z",
     "iopub.status.busy": "2022-01-02T18:07:56.472150Z",
     "iopub.status.idle": "2022-01-02T18:07:56.500287Z",
     "shell.execute_reply": "2022-01-02T18:07:56.499659Z",
     "shell.execute_reply.started": "2022-01-02T18:07:12.301047Z"
    },
    "papermill": {
     "duration": 0.059313,
     "end_time": "2022-01-02T18:07:56.500465",
     "exception": false,
     "start_time": "2022-01-02T18:07:56.441152",
     "status": "completed"
    },
    "tags": []
   },
   "outputs": [],
   "source": [
    "# Reading data\n",
    "df = pd.read_csv(\"../input/heart-disease-dataset/heart.csv\")"
   ]
  },
  {
   "cell_type": "code",
   "execution_count": 3,
   "id": "e717237b",
   "metadata": {
    "execution": {
     "iopub.execute_input": "2022-01-02T18:07:56.560387Z",
     "iopub.status.busy": "2022-01-02T18:07:56.559342Z",
     "iopub.status.idle": "2022-01-02T18:07:56.576617Z",
     "shell.execute_reply": "2022-01-02T18:07:56.577117Z",
     "shell.execute_reply.started": "2022-01-02T18:07:12.328040Z"
    },
    "papermill": {
     "duration": 0.052021,
     "end_time": "2022-01-02T18:07:56.577307",
     "exception": false,
     "start_time": "2022-01-02T18:07:56.525286",
     "status": "completed"
    },
    "tags": []
   },
   "outputs": [
    {
     "data": {
      "text/html": [
       "<div>\n",
       "<style scoped>\n",
       "    .dataframe tbody tr th:only-of-type {\n",
       "        vertical-align: middle;\n",
       "    }\n",
       "\n",
       "    .dataframe tbody tr th {\n",
       "        vertical-align: top;\n",
       "    }\n",
       "\n",
       "    .dataframe thead th {\n",
       "        text-align: right;\n",
       "    }\n",
       "</style>\n",
       "<table border=\"1\" class=\"dataframe\">\n",
       "  <thead>\n",
       "    <tr style=\"text-align: right;\">\n",
       "      <th></th>\n",
       "      <th>age</th>\n",
       "      <th>sex</th>\n",
       "      <th>cp</th>\n",
       "      <th>trestbps</th>\n",
       "      <th>chol</th>\n",
       "      <th>fbs</th>\n",
       "      <th>restecg</th>\n",
       "      <th>thalach</th>\n",
       "      <th>exang</th>\n",
       "      <th>oldpeak</th>\n",
       "      <th>slope</th>\n",
       "      <th>ca</th>\n",
       "      <th>thal</th>\n",
       "      <th>target</th>\n",
       "    </tr>\n",
       "  </thead>\n",
       "  <tbody>\n",
       "    <tr>\n",
       "      <th>0</th>\n",
       "      <td>52</td>\n",
       "      <td>1</td>\n",
       "      <td>0</td>\n",
       "      <td>125</td>\n",
       "      <td>212</td>\n",
       "      <td>0</td>\n",
       "      <td>1</td>\n",
       "      <td>168</td>\n",
       "      <td>0</td>\n",
       "      <td>1.0</td>\n",
       "      <td>2</td>\n",
       "      <td>2</td>\n",
       "      <td>3</td>\n",
       "      <td>0</td>\n",
       "    </tr>\n",
       "    <tr>\n",
       "      <th>1</th>\n",
       "      <td>53</td>\n",
       "      <td>1</td>\n",
       "      <td>0</td>\n",
       "      <td>140</td>\n",
       "      <td>203</td>\n",
       "      <td>1</td>\n",
       "      <td>0</td>\n",
       "      <td>155</td>\n",
       "      <td>1</td>\n",
       "      <td>3.1</td>\n",
       "      <td>0</td>\n",
       "      <td>0</td>\n",
       "      <td>3</td>\n",
       "      <td>0</td>\n",
       "    </tr>\n",
       "    <tr>\n",
       "      <th>2</th>\n",
       "      <td>70</td>\n",
       "      <td>1</td>\n",
       "      <td>0</td>\n",
       "      <td>145</td>\n",
       "      <td>174</td>\n",
       "      <td>0</td>\n",
       "      <td>1</td>\n",
       "      <td>125</td>\n",
       "      <td>1</td>\n",
       "      <td>2.6</td>\n",
       "      <td>0</td>\n",
       "      <td>0</td>\n",
       "      <td>3</td>\n",
       "      <td>0</td>\n",
       "    </tr>\n",
       "    <tr>\n",
       "      <th>3</th>\n",
       "      <td>61</td>\n",
       "      <td>1</td>\n",
       "      <td>0</td>\n",
       "      <td>148</td>\n",
       "      <td>203</td>\n",
       "      <td>0</td>\n",
       "      <td>1</td>\n",
       "      <td>161</td>\n",
       "      <td>0</td>\n",
       "      <td>0.0</td>\n",
       "      <td>2</td>\n",
       "      <td>1</td>\n",
       "      <td>3</td>\n",
       "      <td>0</td>\n",
       "    </tr>\n",
       "    <tr>\n",
       "      <th>4</th>\n",
       "      <td>62</td>\n",
       "      <td>0</td>\n",
       "      <td>0</td>\n",
       "      <td>138</td>\n",
       "      <td>294</td>\n",
       "      <td>1</td>\n",
       "      <td>1</td>\n",
       "      <td>106</td>\n",
       "      <td>0</td>\n",
       "      <td>1.9</td>\n",
       "      <td>1</td>\n",
       "      <td>3</td>\n",
       "      <td>2</td>\n",
       "      <td>0</td>\n",
       "    </tr>\n",
       "  </tbody>\n",
       "</table>\n",
       "</div>"
      ],
      "text/plain": [
       "   age  sex  cp  trestbps  chol  fbs  restecg  thalach  exang  oldpeak  slope  \\\n",
       "0   52    1   0       125   212    0        1      168      0      1.0      2   \n",
       "1   53    1   0       140   203    1        0      155      1      3.1      0   \n",
       "2   70    1   0       145   174    0        1      125      1      2.6      0   \n",
       "3   61    1   0       148   203    0        1      161      0      0.0      2   \n",
       "4   62    0   0       138   294    1        1      106      0      1.9      1   \n",
       "\n",
       "   ca  thal  target  \n",
       "0   2     3       0  \n",
       "1   0     3       0  \n",
       "2   0     3       0  \n",
       "3   1     3       0  \n",
       "4   3     2       0  "
      ]
     },
     "execution_count": 3,
     "metadata": {},
     "output_type": "execute_result"
    }
   ],
   "source": [
    "df.head()"
   ]
  },
  {
   "cell_type": "code",
   "execution_count": 4,
   "id": "8b8489b5",
   "metadata": {
    "execution": {
     "iopub.execute_input": "2022-01-02T18:07:56.631039Z",
     "iopub.status.busy": "2022-01-02T18:07:56.630326Z",
     "iopub.status.idle": "2022-01-02T18:07:56.655526Z",
     "shell.execute_reply": "2022-01-02T18:07:56.656304Z",
     "shell.execute_reply.started": "2022-01-02T18:07:12.348101Z"
    },
    "papermill": {
     "duration": 0.054835,
     "end_time": "2022-01-02T18:07:56.657071",
     "exception": false,
     "start_time": "2022-01-02T18:07:56.602236",
     "status": "completed"
    },
    "tags": []
   },
   "outputs": [
    {
     "name": "stdout",
     "output_type": "stream",
     "text": [
      "<class 'pandas.core.frame.DataFrame'>\n",
      "RangeIndex: 1025 entries, 0 to 1024\n",
      "Data columns (total 14 columns):\n",
      " #   Column    Non-Null Count  Dtype  \n",
      "---  ------    --------------  -----  \n",
      " 0   age       1025 non-null   int64  \n",
      " 1   sex       1025 non-null   int64  \n",
      " 2   cp        1025 non-null   int64  \n",
      " 3   trestbps  1025 non-null   int64  \n",
      " 4   chol      1025 non-null   int64  \n",
      " 5   fbs       1025 non-null   int64  \n",
      " 6   restecg   1025 non-null   int64  \n",
      " 7   thalach   1025 non-null   int64  \n",
      " 8   exang     1025 non-null   int64  \n",
      " 9   oldpeak   1025 non-null   float64\n",
      " 10  slope     1025 non-null   int64  \n",
      " 11  ca        1025 non-null   int64  \n",
      " 12  thal      1025 non-null   int64  \n",
      " 13  target    1025 non-null   int64  \n",
      "dtypes: float64(1), int64(13)\n",
      "memory usage: 112.2 KB\n"
     ]
    }
   ],
   "source": [
    "df.info()"
   ]
  },
  {
   "cell_type": "code",
   "execution_count": 5,
   "id": "3338dc73",
   "metadata": {
    "execution": {
     "iopub.execute_input": "2022-01-02T18:07:56.717660Z",
     "iopub.status.busy": "2022-01-02T18:07:56.716983Z",
     "iopub.status.idle": "2022-01-02T18:07:56.723194Z",
     "shell.execute_reply": "2022-01-02T18:07:56.724063Z",
     "shell.execute_reply.started": "2022-01-02T18:07:12.374639Z"
    },
    "papermill": {
     "duration": 0.040651,
     "end_time": "2022-01-02T18:07:56.724280",
     "exception": false,
     "start_time": "2022-01-02T18:07:56.683629",
     "status": "completed"
    },
    "tags": []
   },
   "outputs": [
    {
     "data": {
      "text/plain": [
       "age         0\n",
       "sex         0\n",
       "cp          0\n",
       "trestbps    0\n",
       "chol        0\n",
       "fbs         0\n",
       "restecg     0\n",
       "thalach     0\n",
       "exang       0\n",
       "oldpeak     0\n",
       "slope       0\n",
       "ca          0\n",
       "thal        0\n",
       "target      0\n",
       "dtype: int64"
      ]
     },
     "execution_count": 5,
     "metadata": {},
     "output_type": "execute_result"
    }
   ],
   "source": [
    "df.isnull().sum()"
   ]
  },
  {
   "cell_type": "code",
   "execution_count": 6,
   "id": "76ada209",
   "metadata": {
    "execution": {
     "iopub.execute_input": "2022-01-02T18:07:56.781322Z",
     "iopub.status.busy": "2022-01-02T18:07:56.780580Z",
     "iopub.status.idle": "2022-01-02T18:07:56.786246Z",
     "shell.execute_reply": "2022-01-02T18:07:56.786930Z",
     "shell.execute_reply.started": "2022-01-02T18:07:12.387877Z"
    },
    "papermill": {
     "duration": 0.03607,
     "end_time": "2022-01-02T18:07:56.787101",
     "exception": false,
     "start_time": "2022-01-02T18:07:56.751031",
     "status": "completed"
    },
    "tags": []
   },
   "outputs": [
    {
     "data": {
      "text/plain": [
       "(1025, 14)"
      ]
     },
     "execution_count": 6,
     "metadata": {},
     "output_type": "execute_result"
    }
   ],
   "source": [
    "df.shape"
   ]
  },
  {
   "cell_type": "code",
   "execution_count": 7,
   "id": "4965af85",
   "metadata": {
    "execution": {
     "iopub.execute_input": "2022-01-02T18:07:56.843624Z",
     "iopub.status.busy": "2022-01-02T18:07:56.842957Z",
     "iopub.status.idle": "2022-01-02T18:07:56.851506Z",
     "shell.execute_reply": "2022-01-02T18:07:56.852024Z",
     "shell.execute_reply.started": "2022-01-02T18:07:12.397579Z"
    },
    "papermill": {
     "duration": 0.03943,
     "end_time": "2022-01-02T18:07:56.852208",
     "exception": false,
     "start_time": "2022-01-02T18:07:56.812778",
     "status": "completed"
    },
    "tags": []
   },
   "outputs": [],
   "source": [
    "# checking dataset is balanced or not\n",
    "target_true_count = len(df.loc[df['target'] == 1])\n",
    "target_false_count = len(df.loc[df['target'] == 0])"
   ]
  },
  {
   "cell_type": "code",
   "execution_count": 8,
   "id": "4187a4c1",
   "metadata": {
    "execution": {
     "iopub.execute_input": "2022-01-02T18:07:56.910879Z",
     "iopub.status.busy": "2022-01-02T18:07:56.910225Z",
     "iopub.status.idle": "2022-01-02T18:07:56.914694Z",
     "shell.execute_reply": "2022-01-02T18:07:56.915188Z",
     "shell.execute_reply.started": "2022-01-02T18:07:12.410065Z"
    },
    "papermill": {
     "duration": 0.035322,
     "end_time": "2022-01-02T18:07:56.915357",
     "exception": false,
     "start_time": "2022-01-02T18:07:56.880035",
     "status": "completed"
    },
    "tags": []
   },
   "outputs": [
    {
     "data": {
      "text/plain": [
       "(526, 499)"
      ]
     },
     "execution_count": 8,
     "metadata": {},
     "output_type": "execute_result"
    }
   ],
   "source": [
    "target_true_count, target_false_count"
   ]
  },
  {
   "cell_type": "code",
   "execution_count": 9,
   "id": "2b90afb3",
   "metadata": {
    "execution": {
     "iopub.execute_input": "2022-01-02T18:07:56.976824Z",
     "iopub.status.busy": "2022-01-02T18:07:56.975808Z",
     "iopub.status.idle": "2022-01-02T18:07:57.183948Z",
     "shell.execute_reply": "2022-01-02T18:07:57.184581Z",
     "shell.execute_reply.started": "2022-01-02T18:07:12.423767Z"
    },
    "papermill": {
     "duration": 0.24252,
     "end_time": "2022-01-02T18:07:57.184843",
     "exception": false,
     "start_time": "2022-01-02T18:07:56.942323",
     "status": "completed"
    },
    "tags": []
   },
   "outputs": [
    {
     "data": {
      "text/plain": [
       "<AxesSubplot:xlabel='target', ylabel='count'>"
      ]
     },
     "execution_count": 9,
     "metadata": {},
     "output_type": "execute_result"
    },
    {
     "data": {
      "image/png": "[encoded data removed]",
      "text/plain": [
       "<Figure size 432x288 with 1 Axes>"
      ]
     },
     "metadata": {
      "needs_background": "light"
     },
     "output_type": "display_data"
    }
   ],
   "source": [
    "# plotting graph for output classes counts\n",
    "sns.countplot(x = 'target',data = df)"
   ]
  },
  {
   "cell_type": "code",
   "execution_count": 10,
   "id": "242ce9a5",
   "metadata": {
    "execution": {
     "iopub.execute_input": "2022-01-02T18:07:57.248232Z",
     "iopub.status.busy": "2022-01-02T18:07:57.247267Z",
     "iopub.status.idle": "2022-01-02T18:07:57.298433Z",
     "shell.execute_reply": "2022-01-02T18:07:57.298893Z",
     "shell.execute_reply.started": "2022-01-02T18:07:12.565594Z"
    },
    "papermill": {
     "duration": 0.083468,
     "end_time": "2022-01-02T18:07:57.299079",
     "exception": false,
     "start_time": "2022-01-02T18:07:57.215611",
     "status": "completed"
    },
    "tags": []
   },
   "outputs": [
    {
     "data": {
      "text/html": [
       "<div>\n",
       "<style scoped>\n",
       "    .dataframe tbody tr th:only-of-type {\n",
       "        vertical-align: middle;\n",
       "    }\n",
       "\n",
       "    .dataframe tbody tr th {\n",
       "        vertical-align: top;\n",
       "    }\n",
       "\n",
       "    .dataframe thead th {\n",
       "        text-align: right;\n",
       "    }\n",
       "</style>\n",
       "<table border=\"1\" class=\"dataframe\">\n",
       "  <thead>\n",
       "    <tr style=\"text-align: right;\">\n",
       "      <th></th>\n",
       "      <th>age</th>\n",
       "      <th>sex</th>\n",
       "      <th>cp</th>\n",
       "      <th>trestbps</th>\n",
       "      <th>chol</th>\n",
       "      <th>fbs</th>\n",
       "      <th>restecg</th>\n",
       "      <th>thalach</th>\n",
       "      <th>exang</th>\n",
       "      <th>oldpeak</th>\n",
       "      <th>slope</th>\n",
       "      <th>ca</th>\n",
       "      <th>thal</th>\n",
       "      <th>target</th>\n",
       "    </tr>\n",
       "  </thead>\n",
       "  <tbody>\n",
       "    <tr>\n",
       "      <th>count</th>\n",
       "      <td>1025.000000</td>\n",
       "      <td>1025.000000</td>\n",
       "      <td>1025.000000</td>\n",
       "      <td>1025.000000</td>\n",
       "      <td>1025.00000</td>\n",
       "      <td>1025.000000</td>\n",
       "      <td>1025.000000</td>\n",
       "      <td>1025.000000</td>\n",
       "      <td>1025.000000</td>\n",
       "      <td>1025.000000</td>\n",
       "      <td>1025.000000</td>\n",
       "      <td>1025.000000</td>\n",
       "      <td>1025.000000</td>\n",
       "      <td>1025.000000</td>\n",
       "    </tr>\n",
       "    <tr>\n",
       "      <th>mean</th>\n",
       "      <td>54.434146</td>\n",
       "      <td>0.695610</td>\n",
       "      <td>0.942439</td>\n",
       "      <td>131.611707</td>\n",
       "      <td>246.00000</td>\n",
       "      <td>0.149268</td>\n",
       "      <td>0.529756</td>\n",
       "      <td>149.114146</td>\n",
       "      <td>0.336585</td>\n",
       "      <td>1.071512</td>\n",
       "      <td>1.385366</td>\n",
       "      <td>0.754146</td>\n",
       "      <td>2.323902</td>\n",
       "      <td>0.513171</td>\n",
       "    </tr>\n",
       "    <tr>\n",
       "      <th>std</th>\n",
       "      <td>9.072290</td>\n",
       "      <td>0.460373</td>\n",
       "      <td>1.029641</td>\n",
       "      <td>17.516718</td>\n",
       "      <td>51.59251</td>\n",
       "      <td>0.356527</td>\n",
       "      <td>0.527878</td>\n",
       "      <td>23.005724</td>\n",
       "      <td>0.472772</td>\n",
       "      <td>1.175053</td>\n",
       "      <td>0.617755</td>\n",
       "      <td>1.030798</td>\n",
       "      <td>0.620660</td>\n",
       "      <td>0.500070</td>\n",
       "    </tr>\n",
       "    <tr>\n",
       "      <th>min</th>\n",
       "      <td>29.000000</td>\n",
       "      <td>0.000000</td>\n",
       "      <td>0.000000</td>\n",
       "      <td>94.000000</td>\n",
       "      <td>126.00000</td>\n",
       "      <td>0.000000</td>\n",
       "      <td>0.000000</td>\n",
       "      <td>71.000000</td>\n",
       "      <td>0.000000</td>\n",
       "      <td>0.000000</td>\n",
       "      <td>0.000000</td>\n",
       "      <td>0.000000</td>\n",
       "      <td>0.000000</td>\n",
       "      <td>0.000000</td>\n",
       "    </tr>\n",
       "    <tr>\n",
       "      <th>25%</th>\n",
       "      <td>48.000000</td>\n",
       "      <td>0.000000</td>\n",
       "      <td>0.000000</td>\n",
       "      <td>120.000000</td>\n",
       "      <td>211.00000</td>\n",
       "      <td>0.000000</td>\n",
       "      <td>0.000000</td>\n",
       "      <td>132.000000</td>\n",
       "      <td>0.000000</td>\n",
       "      <td>0.000000</td>\n",
       "      <td>1.000000</td>\n",
       "      <td>0.000000</td>\n",
       "      <td>2.000000</td>\n",
       "      <td>0.000000</td>\n",
       "    </tr>\n",
       "    <tr>\n",
       "      <th>50%</th>\n",
       "      <td>56.000000</td>\n",
       "      <td>1.000000</td>\n",
       "      <td>1.000000</td>\n",
       "      <td>130.000000</td>\n",
       "      <td>240.00000</td>\n",
       "      <td>0.000000</td>\n",
       "      <td>1.000000</td>\n",
       "      <td>152.000000</td>\n",
       "      <td>0.000000</td>\n",
       "      <td>0.800000</td>\n",
       "      <td>1.000000</td>\n",
       "      <td>0.000000</td>\n",
       "      <td>2.000000</td>\n",
       "      <td>1.000000</td>\n",
       "    </tr>\n",
       "    <tr>\n",
       "      <th>75%</th>\n",
       "      <td>61.000000</td>\n",
       "      <td>1.000000</td>\n",
       "      <td>2.000000</td>\n",
       "      <td>140.000000</td>\n",
       "      <td>275.00000</td>\n",
       "      <td>0.000000</td>\n",
       "      <td>1.000000</td>\n",
       "      <td>166.000000</td>\n",
       "      <td>1.000000</td>\n",
       "      <td>1.800000</td>\n",
       "      <td>2.000000</td>\n",
       "      <td>1.000000</td>\n",
       "      <td>3.000000</td>\n",
       "      <td>1.000000</td>\n",
       "    </tr>\n",
       "    <tr>\n",
       "      <th>max</th>\n",
       "      <td>77.000000</td>\n",
       "      <td>1.000000</td>\n",
       "      <td>3.000000</td>\n",
       "      <td>200.000000</td>\n",
       "      <td>564.00000</td>\n",
       "      <td>1.000000</td>\n",
       "      <td>2.000000</td>\n",
       "      <td>202.000000</td>\n",
       "      <td>1.000000</td>\n",
       "      <td>6.200000</td>\n",
       "      <td>2.000000</td>\n",
       "      <td>4.000000</td>\n",
       "      <td>3.000000</td>\n",
       "      <td>1.000000</td>\n",
       "    </tr>\n",
       "  </tbody>\n",
       "</table>\n",
       "</div>"
      ],
      "text/plain": [
       "               age          sex           cp     trestbps        chol  \\\n",
       "count  1025.000000  1025.000000  1025.000000  1025.000000  1025.00000   \n",
       "mean     54.434146     0.695610     0.942439   131.611707   246.00000   \n",
       "std       9.072290     0.460373     1.029641    17.516718    51.59251   \n",
       "min      29.000000     0.000000     0.000000    94.000000   126.00000   \n",
       "25%      48.000000     0.000000     0.000000   120.000000   211.00000   \n",
       "50%      56.000000     1.000000     1.000000   130.000000   240.00000   \n",
       "75%      61.000000     1.000000     2.000000   140.000000   275.00000   \n",
       "max      77.000000     1.000000     3.000000   200.000000   564.00000   \n",
       "\n",
       "               fbs      restecg      thalach        exang      oldpeak  \\\n",
       "count  1025.000000  1025.000000  1025.000000  1025.000000  1025.000000   \n",
       "mean      0.149268     0.529756   149.114146     0.336585     1.071512   \n",
       "std       0.356527     0.527878    23.005724     0.472772     1.175053   \n",
       "min       0.000000     0.000000    71.000000     0.000000     0.000000   \n",
       "25%       0.000000     0.000000   132.000000     0.000000     0.000000   \n",
       "50%       0.000000     1.000000   152.000000     0.000000     0.800000   \n",
       "75%       0.000000     1.000000   166.000000     1.000000     1.800000   \n",
       "max       1.000000     2.000000   202.000000     1.000000     6.200000   \n",
       "\n",
       "             slope           ca         thal       target  \n",
       "count  1025.000000  1025.000000  1025.000000  1025.000000  \n",
       "mean      1.385366     0.754146     2.323902     0.513171  \n",
       "std       0.617755     1.030798     0.620660     0.500070  \n",
       "min       0.000000     0.000000     0.000000     0.000000  \n",
       "25%       1.000000     0.000000     2.000000     0.000000  \n",
       "50%       1.000000     0.000000     2.000000     1.000000  \n",
       "75%       2.000000     1.000000     3.000000     1.000000  \n",
       "max       2.000000     4.000000     3.000000     1.000000  "
      ]
     },
     "execution_count": 10,
     "metadata": {},
     "output_type": "execute_result"
    }
   ],
   "source": [
    "df.describe()"
   ]
  },
  {
   "cell_type": "code",
   "execution_count": 11,
   "id": "05866a38",
   "metadata": {
    "execution": {
     "iopub.execute_input": "2022-01-02T18:07:57.358364Z",
     "iopub.status.busy": "2022-01-02T18:07:57.357390Z",
     "iopub.status.idle": "2022-01-02T18:08:00.222230Z",
     "shell.execute_reply": "2022-01-02T18:08:00.222718Z",
     "shell.execute_reply.started": "2022-01-02T18:07:12.627823Z"
    },
    "papermill": {
     "duration": 2.896178,
     "end_time": "2022-01-02T18:08:00.222883",
     "exception": false,
     "start_time": "2022-01-02T18:07:57.326705",
     "status": "completed"
    },
    "tags": []
   },
   "outputs": [
    {
     "data": {
      "text/plain": [
       "array([[<AxesSubplot:title={'center':'age'}>,\n",
       "        <AxesSubplot:title={'center':'sex'}>,\n",
       "        <AxesSubplot:title={'center':'cp'}>,\n",
       "        <AxesSubplot:title={'center':'trestbps'}>],\n",
       "       [<AxesSubplot:title={'center':'chol'}>,\n",
       "        <AxesSubplot:title={'center':'fbs'}>,\n",
       "        <AxesSubplot:title={'center':'restecg'}>,\n",
       "        <AxesSubplot:title={'center':'thalach'}>],\n",
       "       [<AxesSubplot:title={'center':'exang'}>,\n",
       "        <AxesSubplot:title={'center':'oldpeak'}>,\n",
       "        <AxesSubplot:title={'center':'slope'}>,\n",
       "        <AxesSubplot:title={'center':'ca'}>],\n",
       "       [<AxesSubplot:title={'center':'thal'}>,\n",
       "        <AxesSubplot:title={'center':'target'}>, <AxesSubplot:>,\n",
       "        <AxesSubplot:>]], dtype=object)"
      ]
     },
     "execution_count": 11,
     "metadata": {},
     "output_type": "execute_result"
    },
    {
     "data": {
      "image/png": "[encoded data removed]",
      "text/plain": [
       "<Figure size 2160x2160 with 16 Axes>"
      ]
     },
     "metadata": {
      "needs_background": "light"
     },
     "output_type": "display_data"
    }
   ],
   "source": [
    "# plotting variation graphs for each property\n",
    "df.hist(figsize = (30,30))"
   ]
  },
  {
   "cell_type": "code",
   "execution_count": 12,
   "id": "7ed48add",
   "metadata": {
    "execution": {
     "iopub.execute_input": "2022-01-02T18:08:00.287511Z",
     "iopub.status.busy": "2022-01-02T18:08:00.286554Z",
     "iopub.status.idle": "2022-01-02T18:08:00.311968Z",
     "shell.execute_reply": "2022-01-02T18:08:00.311418Z",
     "shell.execute_reply.started": "2022-01-02T18:07:15.520099Z"
    },
    "papermill": {
     "duration": 0.058512,
     "end_time": "2022-01-02T18:08:00.312100",
     "exception": false,
     "start_time": "2022-01-02T18:08:00.253588",
     "status": "completed"
    },
    "tags": []
   },
   "outputs": [
    {
     "data": {
      "text/html": [
       "<div>\n",
       "<style scoped>\n",
       "    .dataframe tbody tr th:only-of-type {\n",
       "        vertical-align: middle;\n",
       "    }\n",
       "\n",
       "    .dataframe tbody tr th {\n",
       "        vertical-align: top;\n",
       "    }\n",
       "\n",
       "    .dataframe thead th {\n",
       "        text-align: right;\n",
       "    }\n",
       "</style>\n",
       "<table border=\"1\" class=\"dataframe\">\n",
       "  <thead>\n",
       "    <tr style=\"text-align: right;\">\n",
       "      <th></th>\n",
       "      <th>age</th>\n",
       "      <th>sex</th>\n",
       "      <th>cp</th>\n",
       "      <th>trestbps</th>\n",
       "      <th>chol</th>\n",
       "      <th>fbs</th>\n",
       "      <th>restecg</th>\n",
       "      <th>thalach</th>\n",
       "      <th>exang</th>\n",
       "      <th>oldpeak</th>\n",
       "      <th>slope</th>\n",
       "      <th>ca</th>\n",
       "      <th>thal</th>\n",
       "      <th>target</th>\n",
       "    </tr>\n",
       "  </thead>\n",
       "  <tbody>\n",
       "    <tr>\n",
       "      <th>age</th>\n",
       "      <td>1.000000</td>\n",
       "      <td>-0.103240</td>\n",
       "      <td>-0.071966</td>\n",
       "      <td>0.271121</td>\n",
       "      <td>0.219823</td>\n",
       "      <td>0.121243</td>\n",
       "      <td>-0.132696</td>\n",
       "      <td>-0.390227</td>\n",
       "      <td>0.088163</td>\n",
       "      <td>0.208137</td>\n",
       "      <td>-0.169105</td>\n",
       "      <td>0.271551</td>\n",
       "      <td>0.072297</td>\n",
       "      <td>-0.229324</td>\n",
       "    </tr>\n",
       "    <tr>\n",
       "      <th>sex</th>\n",
       "      <td>-0.103240</td>\n",
       "      <td>1.000000</td>\n",
       "      <td>-0.041119</td>\n",
       "      <td>-0.078974</td>\n",
       "      <td>-0.198258</td>\n",
       "      <td>0.027200</td>\n",
       "      <td>-0.055117</td>\n",
       "      <td>-0.049365</td>\n",
       "      <td>0.139157</td>\n",
       "      <td>0.084687</td>\n",
       "      <td>-0.026666</td>\n",
       "      <td>0.111729</td>\n",
       "      <td>0.198424</td>\n",
       "      <td>-0.279501</td>\n",
       "    </tr>\n",
       "    <tr>\n",
       "      <th>cp</th>\n",
       "      <td>-0.071966</td>\n",
       "      <td>-0.041119</td>\n",
       "      <td>1.000000</td>\n",
       "      <td>0.038177</td>\n",
       "      <td>-0.081641</td>\n",
       "      <td>0.079294</td>\n",
       "      <td>0.043581</td>\n",
       "      <td>0.306839</td>\n",
       "      <td>-0.401513</td>\n",
       "      <td>-0.174733</td>\n",
       "      <td>0.131633</td>\n",
       "      <td>-0.176206</td>\n",
       "      <td>-0.163341</td>\n",
       "      <td>0.434854</td>\n",
       "    </tr>\n",
       "    <tr>\n",
       "      <th>trestbps</th>\n",
       "      <td>0.271121</td>\n",
       "      <td>-0.078974</td>\n",
       "      <td>0.038177</td>\n",
       "      <td>1.000000</td>\n",
       "      <td>0.127977</td>\n",
       "      <td>0.181767</td>\n",
       "      <td>-0.123794</td>\n",
       "      <td>-0.039264</td>\n",
       "      <td>0.061197</td>\n",
       "      <td>0.187434</td>\n",
       "      <td>-0.120445</td>\n",
       "      <td>0.104554</td>\n",
       "      <td>0.059276</td>\n",
       "      <td>-0.138772</td>\n",
       "    </tr>\n",
       "    <tr>\n",
       "      <th>chol</th>\n",
       "      <td>0.219823</td>\n",
       "      <td>-0.198258</td>\n",
       "      <td>-0.081641</td>\n",
       "      <td>0.127977</td>\n",
       "      <td>1.000000</td>\n",
       "      <td>0.026917</td>\n",
       "      <td>-0.147410</td>\n",
       "      <td>-0.021772</td>\n",
       "      <td>0.067382</td>\n",
       "      <td>0.064880</td>\n",
       "      <td>-0.014248</td>\n",
       "      <td>0.074259</td>\n",
       "      <td>0.100244</td>\n",
       "      <td>-0.099966</td>\n",
       "    </tr>\n",
       "    <tr>\n",
       "      <th>fbs</th>\n",
       "      <td>0.121243</td>\n",
       "      <td>0.027200</td>\n",
       "      <td>0.079294</td>\n",
       "      <td>0.181767</td>\n",
       "      <td>0.026917</td>\n",
       "      <td>1.000000</td>\n",
       "      <td>-0.104051</td>\n",
       "      <td>-0.008866</td>\n",
       "      <td>0.049261</td>\n",
       "      <td>0.010859</td>\n",
       "      <td>-0.061902</td>\n",
       "      <td>0.137156</td>\n",
       "      <td>-0.042177</td>\n",
       "      <td>-0.041164</td>\n",
       "    </tr>\n",
       "    <tr>\n",
       "      <th>restecg</th>\n",
       "      <td>-0.132696</td>\n",
       "      <td>-0.055117</td>\n",
       "      <td>0.043581</td>\n",
       "      <td>-0.123794</td>\n",
       "      <td>-0.147410</td>\n",
       "      <td>-0.104051</td>\n",
       "      <td>1.000000</td>\n",
       "      <td>0.048411</td>\n",
       "      <td>-0.065606</td>\n",
       "      <td>-0.050114</td>\n",
       "      <td>0.086086</td>\n",
       "      <td>-0.078072</td>\n",
       "      <td>-0.020504</td>\n",
       "      <td>0.134468</td>\n",
       "    </tr>\n",
       "    <tr>\n",
       "      <th>thalach</th>\n",
       "      <td>-0.390227</td>\n",
       "      <td>-0.049365</td>\n",
       "      <td>0.306839</td>\n",
       "      <td>-0.039264</td>\n",
       "      <td>-0.021772</td>\n",
       "      <td>-0.008866</td>\n",
       "      <td>0.048411</td>\n",
       "      <td>1.000000</td>\n",
       "      <td>-0.380281</td>\n",
       "      <td>-0.349796</td>\n",
       "      <td>0.395308</td>\n",
       "      <td>-0.207888</td>\n",
       "      <td>-0.098068</td>\n",
       "      <td>0.422895</td>\n",
       "    </tr>\n",
       "    <tr>\n",
       "      <th>exang</th>\n",
       "      <td>0.088163</td>\n",
       "      <td>0.139157</td>\n",
       "      <td>-0.401513</td>\n",
       "      <td>0.061197</td>\n",
       "      <td>0.067382</td>\n",
       "      <td>0.049261</td>\n",
       "      <td>-0.065606</td>\n",
       "      <td>-0.380281</td>\n",
       "      <td>1.000000</td>\n",
       "      <td>0.310844</td>\n",
       "      <td>-0.267335</td>\n",
       "      <td>0.107849</td>\n",
       "      <td>0.197201</td>\n",
       "      <td>-0.438029</td>\n",
       "    </tr>\n",
       "    <tr>\n",
       "      <th>oldpeak</th>\n",
       "      <td>0.208137</td>\n",
       "      <td>0.084687</td>\n",
       "      <td>-0.174733</td>\n",
       "      <td>0.187434</td>\n",
       "      <td>0.064880</td>\n",
       "      <td>0.010859</td>\n",
       "      <td>-0.050114</td>\n",
       "      <td>-0.349796</td>\n",
       "      <td>0.310844</td>\n",
       "      <td>1.000000</td>\n",
       "      <td>-0.575189</td>\n",
       "      <td>0.221816</td>\n",
       "      <td>0.202672</td>\n",
       "      <td>-0.438441</td>\n",
       "    </tr>\n",
       "    <tr>\n",
       "      <th>slope</th>\n",
       "      <td>-0.169105</td>\n",
       "      <td>-0.026666</td>\n",
       "      <td>0.131633</td>\n",
       "      <td>-0.120445</td>\n",
       "      <td>-0.014248</td>\n",
       "      <td>-0.061902</td>\n",
       "      <td>0.086086</td>\n",
       "      <td>0.395308</td>\n",
       "      <td>-0.267335</td>\n",
       "      <td>-0.575189</td>\n",
       "      <td>1.000000</td>\n",
       "      <td>-0.073440</td>\n",
       "      <td>-0.094090</td>\n",
       "      <td>0.345512</td>\n",
       "    </tr>\n",
       "    <tr>\n",
       "      <th>ca</th>\n",
       "      <td>0.271551</td>\n",
       "      <td>0.111729</td>\n",
       "      <td>-0.176206</td>\n",
       "      <td>0.104554</td>\n",
       "      <td>0.074259</td>\n",
       "      <td>0.137156</td>\n",
       "      <td>-0.078072</td>\n",
       "      <td>-0.207888</td>\n",
       "      <td>0.107849</td>\n",
       "      <td>0.221816</td>\n",
       "      <td>-0.073440</td>\n",
       "      <td>1.000000</td>\n",
       "      <td>0.149014</td>\n",
       "      <td>-0.382085</td>\n",
       "    </tr>\n",
       "    <tr>\n",
       "      <th>thal</th>\n",
       "      <td>0.072297</td>\n",
       "      <td>0.198424</td>\n",
       "      <td>-0.163341</td>\n",
       "      <td>0.059276</td>\n",
       "      <td>0.100244</td>\n",
       "      <td>-0.042177</td>\n",
       "      <td>-0.020504</td>\n",
       "      <td>-0.098068</td>\n",
       "      <td>0.197201</td>\n",
       "      <td>0.202672</td>\n",
       "      <td>-0.094090</td>\n",
       "      <td>0.149014</td>\n",
       "      <td>1.000000</td>\n",
       "      <td>-0.337838</td>\n",
       "    </tr>\n",
       "    <tr>\n",
       "      <th>target</th>\n",
       "      <td>-0.229324</td>\n",
       "      <td>-0.279501</td>\n",
       "      <td>0.434854</td>\n",
       "      <td>-0.138772</td>\n",
       "      <td>-0.099966</td>\n",
       "      <td>-0.041164</td>\n",
       "      <td>0.134468</td>\n",
       "      <td>0.422895</td>\n",
       "      <td>-0.438029</td>\n",
       "      <td>-0.438441</td>\n",
       "      <td>0.345512</td>\n",
       "      <td>-0.382085</td>\n",
       "      <td>-0.337838</td>\n",
       "      <td>1.000000</td>\n",
       "    </tr>\n",
       "  </tbody>\n",
       "</table>\n",
       "</div>"
      ],
      "text/plain": [
       "               age       sex        cp  trestbps      chol       fbs  \\\n",
       "age       1.000000 -0.103240 -0.071966  0.271121  0.219823  0.121243   \n",
       "sex      -0.103240  1.000000 -0.041119 -0.078974 -0.198258  0.027200   \n",
       "cp       -0.071966 -0.041119  1.000000  0.038177 -0.081641  0.079294   \n",
       "trestbps  0.271121 -0.078974  0.038177  1.000000  0.127977  0.181767   \n",
       "chol      0.219823 -0.198258 -0.081641  0.127977  1.000000  0.026917   \n",
       "fbs       0.121243  0.027200  0.079294  0.181767  0.026917  1.000000   \n",
       "restecg  -0.132696 -0.055117  0.043581 -0.123794 -0.147410 -0.104051   \n",
       "thalach  -0.390227 -0.049365  0.306839 -0.039264 -0.021772 -0.008866   \n",
       "exang     0.088163  0.139157 -0.401513  0.061197  0.067382  0.049261   \n",
       "oldpeak   0.208137  0.084687 -0.174733  0.187434  0.064880  0.010859   \n",
       "slope    -0.169105 -0.026666  0.131633 -0.120445 -0.014248 -0.061902   \n",
       "ca        0.271551  0.111729 -0.176206  0.104554  0.074259  0.137156   \n",
       "thal      0.072297  0.198424 -0.163341  0.059276  0.100244 -0.042177   \n",
       "target   -0.229324 -0.279501  0.434854 -0.138772 -0.099966 -0.041164   \n",
       "\n",
       "           restecg   thalach     exang   oldpeak     slope        ca  \\\n",
       "age      -0.132696 -0.390227  0.088163  0.208137 -0.169105  0.271551   \n",
       "sex      -0.055117 -0.049365  0.139157  0.084687 -0.026666  0.111729   \n",
       "cp        0.043581  0.306839 -0.401513 -0.174733  0.131633 -0.176206   \n",
       "trestbps -0.123794 -0.039264  0.061197  0.187434 -0.120445  0.104554   \n",
       "chol     -0.147410 -0.021772  0.067382  0.064880 -0.014248  0.074259   \n",
       "fbs      -0.104051 -0.008866  0.049261  0.010859 -0.061902  0.137156   \n",
       "restecg   1.000000  0.048411 -0.065606 -0.050114  0.086086 -0.078072   \n",
       "thalach   0.048411  1.000000 -0.380281 -0.349796  0.395308 -0.207888   \n",
       "exang    -0.065606 -0.380281  1.000000  0.310844 -0.267335  0.107849   \n",
       "oldpeak  -0.050114 -0.349796  0.310844  1.000000 -0.575189  0.221816   \n",
       "slope     0.086086  0.395308 -0.267335 -0.575189  1.000000 -0.073440   \n",
       "ca       -0.078072 -0.207888  0.107849  0.221816 -0.073440  1.000000   \n",
       "thal     -0.020504 -0.098068  0.197201  0.202672 -0.094090  0.149014   \n",
       "target    0.134468  0.422895 -0.438029 -0.438441  0.345512 -0.382085   \n",
       "\n",
       "              thal    target  \n",
       "age       0.072297 -0.229324  \n",
       "sex       0.198424 -0.279501  \n",
       "cp       -0.163341  0.434854  \n",
       "trestbps  0.059276 -0.138772  \n",
       "chol      0.100244 -0.099966  \n",
       "fbs      -0.042177 -0.041164  \n",
       "restecg  -0.020504  0.134468  \n",
       "thalach  -0.098068  0.422895  \n",
       "exang     0.197201 -0.438029  \n",
       "oldpeak   0.202672 -0.438441  \n",
       "slope    -0.094090  0.345512  \n",
       "ca        0.149014 -0.382085  \n",
       "thal      1.000000 -0.337838  \n",
       "target   -0.337838  1.000000  "
      ]
     },
     "execution_count": 12,
     "metadata": {},
     "output_type": "execute_result"
    }
   ],
   "source": [
    "df.corr()"
   ]
  },
  {
   "cell_type": "code",
   "execution_count": 13,
   "id": "d4d24cd8",
   "metadata": {
    "execution": {
     "iopub.execute_input": "2022-01-02T18:08:00.380834Z",
     "iopub.status.busy": "2022-01-02T18:08:00.379864Z",
     "iopub.status.idle": "2022-01-02T18:08:01.717225Z",
     "shell.execute_reply": "2022-01-02T18:08:01.717993Z",
     "shell.execute_reply.started": "2022-01-02T18:07:15.548130Z"
    },
    "papermill": {
     "duration": 1.374766,
     "end_time": "2022-01-02T18:08:01.718207",
     "exception": false,
     "start_time": "2022-01-02T18:08:00.343441",
     "status": "completed"
    },
    "tags": []
   },
   "outputs": [
    {
     "data": {
      "image/png": "[encoded data removed]",
      "text/plain": [
       "<Figure size 1440x1440 with 2 Axes>"
      ]
     },
     "metadata": {
      "needs_background": "light"
     },
     "output_type": "display_data"
    }
   ],
   "source": [
    "corrmat = df.corr()\n",
    "top_corr_features = corrmat.index\n",
    "plt.figure(figsize=(20,20))\n",
    "#plot heat map\n",
    "g=sns.heatmap(df[top_corr_features].corr(),annot=True,cmap=\"RdYlGn\")"
   ]
  },
  {
   "cell_type": "code",
   "execution_count": 14,
   "id": "02588a95",
   "metadata": {
    "execution": {
     "iopub.execute_input": "2022-01-02T18:08:01.798676Z",
     "iopub.status.busy": "2022-01-02T18:08:01.797816Z",
     "iopub.status.idle": "2022-01-02T18:08:01.801462Z",
     "shell.execute_reply": "2022-01-02T18:08:01.800870Z",
     "shell.execute_reply.started": "2022-01-02T18:07:16.917501Z"
    },
    "papermill": {
     "duration": 0.044245,
     "end_time": "2022-01-02T18:08:01.801631",
     "exception": false,
     "start_time": "2022-01-02T18:08:01.757386",
     "status": "completed"
    },
    "tags": []
   },
   "outputs": [
    {
     "data": {
      "text/plain": [
       "Index(['age', 'sex', 'cp', 'trestbps', 'chol', 'fbs', 'restecg', 'thalach',\n",
       "       'exang', 'oldpeak', 'slope', 'ca', 'thal', 'target'],\n",
       "      dtype='object')"
      ]
     },
     "execution_count": 14,
     "metadata": {},
     "output_type": "execute_result"
    }
   ],
   "source": [
    "df.columns"
   ]
  },
  {
   "cell_type": "markdown",
   "id": "22d67a5f",
   "metadata": {
    "papermill": {
     "duration": 0.036553,
     "end_time": "2022-01-02T18:08:01.874101",
     "exception": false,
     "start_time": "2022-01-02T18:08:01.837548",
     "status": "completed"
    },
    "tags": []
   },
   "source": [
    "##### Checking if data has 0 values present"
   ]
  },
  {
   "cell_type": "code",
   "execution_count": 15,
   "id": "47d0f43b",
   "metadata": {
    "execution": {
     "iopub.execute_input": "2022-01-02T18:08:01.958866Z",
     "iopub.status.busy": "2022-01-02T18:08:01.958034Z",
     "iopub.status.idle": "2022-01-02T18:08:01.971831Z",
     "shell.execute_reply": "2022-01-02T18:08:01.972352Z",
     "shell.execute_reply.started": "2022-01-02T18:07:16.927057Z"
    },
    "papermill": {
     "duration": 0.06259,
     "end_time": "2022-01-02T18:08:01.972589",
     "exception": false,
     "start_time": "2022-01-02T18:08:01.909999",
     "status": "completed"
    },
    "tags": []
   },
   "outputs": [
    {
     "name": "stdout",
     "output_type": "stream",
     "text": [
      "Age: 0\n",
      "gender: 312\n",
      "chest pain type: 497\n",
      "resting blood pressure: 0\n",
      "serum cholestoral: 0\n",
      "fasting blood sugar: 872\n",
      "resting electrocardiographic results: 497\n",
      "maximum heart rate achieved: 0\n",
      "exercise induced angina: 680\n",
      "oldpeak : 329\n",
      "the slope of the peak exercise ST segment: 74\n",
      "number of major vessels (0-3) colored by flourosopy: 578\n",
      "thal: 7\n"
     ]
    }
   ],
   "source": [
    "print(\"Age: {0}\".format(len(df.loc[df['age'] == 0])))\n",
    "print(\"gender: {0}\".format(len(df.loc[df['sex'] == 0])))\n",
    "print(\"chest pain type: {0}\".format(len(df.loc[df['cp'] == 0])))\n",
    "print(\"resting blood pressure: {0}\".format(len(df.loc[df['trestbps'] == 0])))\n",
    "print(\"serum cholestoral: {0}\".format(len(df.loc[df['chol'] == 0])))\n",
    "print(\"fasting blood sugar: {0}\".format(len(df.loc[df['fbs'] == 0])))\n",
    "print(\"resting electrocardiographic results: {0}\".format(len(df.loc[df['restecg'] == 0])))\n",
    "print(\"maximum heart rate achieved: {0}\".format(len(df.loc[df['thalach'] == 0])))\n",
    "print(\"exercise induced angina: {0}\".format(len(df.loc[df['exang'] == 0])))\n",
    "print(\"oldpeak : {0}\".format(len(df.loc[df['oldpeak'] == 0])))\n",
    "print(\"the slope of the peak exercise ST segment: {0}\".format(len(df.loc[df['slope'] == 0])))\n",
    "print(\"number of major vessels (0-3) colored by flourosopy: {0}\".format(len(df.loc[df['ca'] == 0])))\n",
    "print(\"thal: {0}\".format(len(df.loc[df['thal'] == 0])))"
   ]
  },
  {
   "cell_type": "markdown",
   "id": "6f128bd3",
   "metadata": {
    "papermill": {
     "duration": 0.035669,
     "end_time": "2022-01-02T18:08:02.044629",
     "exception": false,
     "start_time": "2022-01-02T18:08:02.008960",
     "status": "completed"
    },
    "tags": []
   },
   "source": [
    "##### preparing the data"
   ]
  },
  {
   "cell_type": "code",
   "execution_count": 16,
   "id": "408fe17f",
   "metadata": {
    "execution": {
     "iopub.execute_input": "2022-01-02T18:08:02.120519Z",
     "iopub.status.busy": "2022-01-02T18:08:02.119816Z",
     "iopub.status.idle": "2022-01-02T18:08:02.311459Z",
     "shell.execute_reply": "2022-01-02T18:08:02.310693Z",
     "shell.execute_reply.started": "2022-01-02T18:07:16.952380Z"
    },
    "papermill": {
     "duration": 0.231054,
     "end_time": "2022-01-02T18:08:02.311631",
     "exception": false,
     "start_time": "2022-01-02T18:08:02.080577",
     "status": "completed"
    },
    "tags": []
   },
   "outputs": [],
   "source": [
    "from sklearn.model_selection import train_test_split\n",
    "feature_columns = ['age', 'sex', 'cp','trestbps', 'chol', 'restecg', 'thalach', 'exang' , 'oldpeak', 'slope', 'ca', 'thal']\n",
    "predicted_class = ['target']"
   ]
  },
  {
   "cell_type": "code",
   "execution_count": 17,
   "id": "47c11960",
   "metadata": {
    "execution": {
     "iopub.execute_input": "2022-01-02T18:08:02.387452Z",
     "iopub.status.busy": "2022-01-02T18:08:02.386782Z",
     "iopub.status.idle": "2022-01-02T18:08:02.396541Z",
     "shell.execute_reply": "2022-01-02T18:08:02.397062Z",
     "shell.execute_reply.started": "2022-01-02T18:07:16.960302Z"
    },
    "papermill": {
     "duration": 0.049874,
     "end_time": "2022-01-02T18:08:02.397280",
     "exception": false,
     "start_time": "2022-01-02T18:08:02.347406",
     "status": "completed"
    },
    "tags": []
   },
   "outputs": [],
   "source": [
    "X = df[feature_columns]\n",
    "y = df[predicted_class]\n",
    "\n",
    "\n",
    "X_train, X_test, y_train, y_test = train_test_split(X, y, test_size = 0.30, random_state=10)"
   ]
  },
  {
   "cell_type": "markdown",
   "id": "f774a1d0",
   "metadata": {
    "papermill": {
     "duration": 0.035238,
     "end_time": "2022-01-02T18:08:02.468078",
     "exception": false,
     "start_time": "2022-01-02T18:08:02.432840",
     "status": "completed"
    },
    "tags": []
   },
   "source": [
    "##### filling in 0 values"
   ]
  },
  {
   "cell_type": "code",
   "execution_count": 18,
   "id": "88ca3974",
   "metadata": {
    "execution": {
     "iopub.execute_input": "2022-01-02T18:08:02.542658Z",
     "iopub.status.busy": "2022-01-02T18:08:02.542016Z",
     "iopub.status.idle": "2022-01-02T18:08:02.713494Z",
     "shell.execute_reply": "2022-01-02T18:08:02.712865Z",
     "shell.execute_reply.started": "2022-01-02T18:07:16.977289Z"
    },
    "papermill": {
     "duration": 0.209949,
     "end_time": "2022-01-02T18:08:02.713659",
     "exception": false,
     "start_time": "2022-01-02T18:08:02.503710",
     "status": "completed"
    },
    "tags": []
   },
   "outputs": [],
   "source": [
    "from sklearn.impute import SimpleImputer\n",
    "\n",
    "fill_values = SimpleImputer(missing_values=0, strategy=\"mean\")\n",
    "\n",
    "X_train = fill_values.fit_transform(X_train)\n",
    "X_test = fill_values.fit_transform(X_test)"
   ]
  },
  {
   "cell_type": "code",
   "execution_count": 19,
   "id": "90cf39bb",
   "metadata": {
    "execution": {
     "iopub.execute_input": "2022-01-02T18:08:02.792449Z",
     "iopub.status.busy": "2022-01-02T18:08:02.791517Z",
     "iopub.status.idle": "2022-01-02T18:08:03.079010Z",
     "shell.execute_reply": "2022-01-02T18:08:03.078255Z",
     "shell.execute_reply.started": "2022-01-02T18:07:16.997548Z"
    },
    "papermill": {
     "duration": 0.329095,
     "end_time": "2022-01-02T18:08:03.079194",
     "exception": false,
     "start_time": "2022-01-02T18:08:02.750099",
     "status": "completed"
    },
    "tags": []
   },
   "outputs": [],
   "source": [
    "from sklearn.ensemble import RandomForestClassifier\n",
    "random_forest_model = RandomForestClassifier(random_state=10)\n",
    "\n",
    "model = random_forest_model.fit(X_train, y_train)"
   ]
  },
  {
   "cell_type": "code",
   "execution_count": 20,
   "id": "9ae92ad4",
   "metadata": {
    "execution": {
     "iopub.execute_input": "2022-01-02T18:08:03.157848Z",
     "iopub.status.busy": "2022-01-02T18:08:03.157081Z",
     "iopub.status.idle": "2022-01-02T18:08:03.177433Z",
     "shell.execute_reply": "2022-01-02T18:08:03.176802Z",
     "shell.execute_reply.started": "2022-01-02T18:07:17.238170Z"
    },
    "papermill": {
     "duration": 0.062527,
     "end_time": "2022-01-02T18:08:03.177613",
     "exception": false,
     "start_time": "2022-01-02T18:08:03.115086",
     "status": "completed"
    },
    "tags": []
   },
   "outputs": [
    {
     "name": "stdout",
     "output_type": "stream",
     "text": [
      "Accuracy = 0.961\n"
     ]
    }
   ],
   "source": [
    "predict_train_data = model.predict(X_test)\n",
    "\n",
    "from sklearn import metrics\n",
    "\n",
    "print(\"Accuracy = {0:.3f}\".format(metrics.accuracy_score(y_test, predict_train_data)))"
   ]
  },
  {
   "cell_type": "code",
   "execution_count": 21,
   "id": "54113a60",
   "metadata": {
    "execution": {
     "iopub.execute_input": "2022-01-02T18:08:03.258394Z",
     "iopub.status.busy": "2022-01-02T18:08:03.257748Z",
     "iopub.status.idle": "2022-01-02T18:08:03.264339Z",
     "shell.execute_reply": "2022-01-02T18:08:03.264774Z",
     "shell.execute_reply.started": "2022-01-02T18:07:17.261087Z"
    },
    "papermill": {
     "duration": 0.049464,
     "end_time": "2022-01-02T18:08:03.264973",
     "exception": false,
     "start_time": "2022-01-02T18:08:03.215509",
     "status": "completed"
    },
    "tags": []
   },
   "outputs": [
    {
     "data": {
      "text/plain": [
       "array([[149,   4],\n",
       "       [  8, 147]])"
      ]
     },
     "execution_count": 21,
     "metadata": {},
     "output_type": "execute_result"
    }
   ],
   "source": [
    "from sklearn.metrics import confusion_matrix\n",
    "cm = confusion_matrix(y_test, predict_train_data)\n",
    "cm"
   ]
  },
  {
   "cell_type": "code",
   "execution_count": 22,
   "id": "516bbfe4",
   "metadata": {
    "execution": {
     "iopub.execute_input": "2022-01-02T18:08:03.343463Z",
     "iopub.status.busy": "2022-01-02T18:08:03.342463Z",
     "iopub.status.idle": "2022-01-02T18:08:03.407242Z",
     "shell.execute_reply": "2022-01-02T18:08:03.406594Z",
     "shell.execute_reply.started": "2022-01-02T18:07:17.272190Z"
    },
    "papermill": {
     "duration": 0.106267,
     "end_time": "2022-01-02T18:08:03.407407",
     "exception": false,
     "start_time": "2022-01-02T18:08:03.301140",
     "status": "completed"
    },
    "tags": []
   },
   "outputs": [
    {
     "data": {
      "text/plain": [
       "['./random_forest_heart.joblib']"
      ]
     },
     "execution_count": 22,
     "metadata": {},
     "output_type": "execute_result"
    }
   ],
   "source": [
    "import joblib\n",
    "joblib.dump(model, \"./random_forest_heart.joblib\")"
   ]
  },
  {
   "cell_type": "code",
   "execution_count": 23,
   "id": "23637e57",
   "metadata": {
    "execution": {
     "iopub.execute_input": "2022-01-02T18:08:03.486785Z",
     "iopub.status.busy": "2022-01-02T18:08:03.485841Z",
     "iopub.status.idle": "2022-01-02T18:08:04.045194Z",
     "shell.execute_reply": "2022-01-02T18:08:04.044595Z",
     "shell.execute_reply.started": "2022-01-02T18:07:17.346348Z"
    },
    "papermill": {
     "duration": 0.600949,
     "end_time": "2022-01-02T18:08:04.045364",
     "exception": false,
     "start_time": "2022-01-02T18:08:03.444415",
     "status": "completed"
    },
    "tags": []
   },
   "outputs": [
    {
     "name": "stdout",
     "output_type": "stream",
     "text": [
      "[18:08:03] WARNING: ../src/learner.cc:1115: Starting in XGBoost 1.3.0, the default evaluation metric used with the objective 'binary:logistic' was changed from 'error' to 'logloss'. Explicitly set eval_metric if you'd like to restore the old behavior.\n"
     ]
    }
   ],
   "source": [
    "from xgboost import XGBClassifier\n",
    "xg_model = XGBClassifier(random_state=42)\n",
    "\n",
    "model_1 = xg_model.fit(X_train, y_train)"
   ]
  },
  {
   "cell_type": "code",
   "execution_count": 24,
   "id": "c2173484",
   "metadata": {
    "execution": {
     "iopub.execute_input": "2022-01-02T18:08:04.126925Z",
     "iopub.status.busy": "2022-01-02T18:08:04.126019Z",
     "iopub.status.idle": "2022-01-02T18:08:04.138484Z",
     "shell.execute_reply": "2022-01-02T18:08:04.139159Z",
     "shell.execute_reply.started": "2022-01-02T18:07:17.763659Z"
    },
    "papermill": {
     "duration": 0.056312,
     "end_time": "2022-01-02T18:08:04.139409",
     "exception": false,
     "start_time": "2022-01-02T18:08:04.083097",
     "status": "completed"
    },
    "tags": []
   },
   "outputs": [
    {
     "name": "stdout",
     "output_type": "stream",
     "text": [
      "Accuracy = 0.951\n"
     ]
    }
   ],
   "source": [
    "predict_train_data = model_1.predict(X_test)\n",
    "\n",
    "print(\"Accuracy = {0:.3f}\".format(metrics.accuracy_score(y_test, predict_train_data)))"
   ]
  },
  {
   "cell_type": "code",
   "execution_count": 25,
   "id": "2a878952",
   "metadata": {
    "execution": {
     "iopub.execute_input": "2022-01-02T18:08:04.222409Z",
     "iopub.status.busy": "2022-01-02T18:08:04.221385Z",
     "iopub.status.idle": "2022-01-02T18:08:04.225222Z",
     "shell.execute_reply": "2022-01-02T18:08:04.225791Z",
     "shell.execute_reply.started": "2022-01-02T18:07:17.780535Z"
    },
    "papermill": {
     "duration": 0.048075,
     "end_time": "2022-01-02T18:08:04.225964",
     "exception": false,
     "start_time": "2022-01-02T18:08:04.177889",
     "status": "completed"
    },
    "tags": []
   },
   "outputs": [
    {
     "data": {
      "text/plain": [
       "array([[149,   4],\n",
       "       [ 11, 144]])"
      ]
     },
     "execution_count": 25,
     "metadata": {},
     "output_type": "execute_result"
    }
   ],
   "source": [
    "cm = confusion_matrix(y_test, predict_train_data)\n",
    "cm"
   ]
  },
  {
   "cell_type": "code",
   "execution_count": null,
   "id": "d2ff2974",
   "metadata": {
    "papermill": {
     "duration": 0.03686,
     "end_time": "2022-01-02T18:08:04.299963",
     "exception": false,
     "start_time": "2022-01-02T18:08:04.263103",
     "status": "completed"
    },
    "tags": []
   },
   "outputs": [],
   "source": []
  }
 ],
 "metadata": {
  "kernelspec": {
   "display_name": "Python 3",
   "language": "python",
   "name": "python3"
  },
  "language_info": {
   "codemirror_mode": {
    "name": "ipython",
    "version": 3
   },
   "file_extension": ".py",
   "mimetype": "text/x-python",
   "name": "python",
   "nbconvert_exporter": "python",
   "pygments_lexer": "ipython3",
   "version": "3.7.12"
  },
  "papermill": {
   "default_parameters": {},
   "duration": 20.947477,
   "end_time": "2022-01-02T18:08:05.448995",
   "environment_variables": {},
   "exception": null,
   "input_path": "__notebook__.ipynb",
   "output_path": "__notebook__.ipynb",
   "parameters": {},
   "start_time": "2022-01-02T18:07:44.501518",
   "version": "2.3.3"
  }
 },
 "nbformat": 4,
 "nbformat_minor": 5
}
